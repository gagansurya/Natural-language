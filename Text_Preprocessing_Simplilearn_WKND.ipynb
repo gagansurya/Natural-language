{
  "nbformat": 4,
  "nbformat_minor": 0,
  "metadata": {
    "colab": {
      "provenance": []
    },
    "kernelspec": {
      "name": "python3",
      "display_name": "Python 3"
    },
    "language_info": {
      "name": "python"
    }
  },
  "cells": [
    {
      "cell_type": "code",
      "execution_count": 1,
      "metadata": {
        "id": "b9YT5b8NQKRY"
      },
      "outputs": [],
      "source": [
        "import nltk"
      ]
    },
    {
      "cell_type": "code",
      "source": [
        "#Tokenization\n",
        "from nltk.tokenize import word_tokenize"
      ],
      "metadata": {
        "id": "OkqflEc7QP8Z"
      },
      "execution_count": 2,
      "outputs": []
    },
    {
      "cell_type": "code",
      "source": [
        "nltk.download('punkt')"
      ],
      "metadata": {
        "colab": {
          "base_uri": "https://localhost:8080/"
        },
        "id": "fShjWRlvQgbm",
        "outputId": "db4a649a-9b44-4c01-fd5f-4b7f19d0baff"
      },
      "execution_count": 5,
      "outputs": [
        {
          "output_type": "stream",
          "name": "stderr",
          "text": [
            "[nltk_data] Downloading package punkt to /root/nltk_data...\n",
            "[nltk_data]   Unzipping tokenizers/punkt.zip.\n"
          ]
        },
        {
          "output_type": "execute_result",
          "data": {
            "text/plain": [
              "True"
            ]
          },
          "metadata": {},
          "execution_count": 5
        }
      ]
    },
    {
      "cell_type": "code",
      "source": [
        "text = 'Virat Kohli is a good batter, fielder, etc.'"
      ],
      "metadata": {
        "id": "A60U_rvsQZHr"
      },
      "execution_count": 19,
      "outputs": []
    },
    {
      "cell_type": "code",
      "source": [
        "tokens = word_tokenize(text)"
      ],
      "metadata": {
        "id": "zVCINgfKQbvG"
      },
      "execution_count": 20,
      "outputs": []
    },
    {
      "cell_type": "code",
      "source": [
        "tokens"
      ],
      "metadata": {
        "colab": {
          "base_uri": "https://localhost:8080/"
        },
        "id": "b7wkvRamQdVf",
        "outputId": "39ea5a43-ac31-432f-b606-f9922c811bf6"
      },
      "execution_count": 21,
      "outputs": [
        {
          "output_type": "execute_result",
          "data": {
            "text/plain": [
              "['Virat',\n",
              " 'Kohli',\n",
              " 'is',\n",
              " 'a',\n",
              " 'good',\n",
              " 'batter',\n",
              " ',',\n",
              " 'fielder',\n",
              " ',',\n",
              " 'etc',\n",
              " '.']"
            ]
          },
          "metadata": {},
          "execution_count": 21
        }
      ]
    },
    {
      "cell_type": "code",
      "source": [
        "type(tokens)"
      ],
      "metadata": {
        "colab": {
          "base_uri": "https://localhost:8080/"
        },
        "id": "ERn9q7rAQrPN",
        "outputId": "f410aab0-2e2b-47be-8383-7e35ee73576f"
      },
      "execution_count": 22,
      "outputs": [
        {
          "output_type": "execute_result",
          "data": {
            "text/plain": [
              "list"
            ]
          },
          "metadata": {},
          "execution_count": 22
        }
      ]
    },
    {
      "cell_type": "code",
      "source": [
        "len(tokens)"
      ],
      "metadata": {
        "colab": {
          "base_uri": "https://localhost:8080/"
        },
        "id": "7RGCYC6jQt-V",
        "outputId": "a1e4b212-4dca-4168-b6c2-21209f229144"
      },
      "execution_count": 23,
      "outputs": [
        {
          "output_type": "execute_result",
          "data": {
            "text/plain": [
              "11"
            ]
          },
          "metadata": {},
          "execution_count": 23
        }
      ]
    },
    {
      "cell_type": "code",
      "source": [
        "from nltk.tokenize import sent_tokenize"
      ],
      "metadata": {
        "id": "cO7XkJyrQwSD"
      },
      "execution_count": 13,
      "outputs": []
    },
    {
      "cell_type": "code",
      "source": [
        "text_1 = 'Virat Kohli is a good batter. Virat is not a good captain'"
      ],
      "metadata": {
        "id": "7PrVidFlRIM_"
      },
      "execution_count": 14,
      "outputs": []
    },
    {
      "cell_type": "code",
      "source": [
        "token_1 = sent_tokenize(text_1)"
      ],
      "metadata": {
        "id": "2LuDNNs3RTQt"
      },
      "execution_count": 15,
      "outputs": []
    },
    {
      "cell_type": "code",
      "source": [
        "token_1"
      ],
      "metadata": {
        "colab": {
          "base_uri": "https://localhost:8080/"
        },
        "id": "Hxq2ZE9-RYmv",
        "outputId": "50c4c992-2225-49b5-895b-9e7b966c0d24"
      },
      "execution_count": 16,
      "outputs": [
        {
          "output_type": "execute_result",
          "data": {
            "text/plain": [
              "['Virat Kohli is a good batter.', 'Virat is not a good captain']"
            ]
          },
          "metadata": {},
          "execution_count": 16
        }
      ]
    },
    {
      "cell_type": "code",
      "source": [
        "len(token_1)"
      ],
      "metadata": {
        "colab": {
          "base_uri": "https://localhost:8080/"
        },
        "id": "nqYAQVLbRZyM",
        "outputId": "cd00d4be-cf5b-45b8-ad3e-bb54ca0b5fa4"
      },
      "execution_count": 17,
      "outputs": [
        {
          "output_type": "execute_result",
          "data": {
            "text/plain": [
              "2"
            ]
          },
          "metadata": {},
          "execution_count": 17
        }
      ]
    },
    {
      "cell_type": "code",
      "source": [
        "type(token_1)"
      ],
      "metadata": {
        "colab": {
          "base_uri": "https://localhost:8080/"
        },
        "id": "F_Hv_1YoReLX",
        "outputId": "8728cb94-f2fb-43a5-f3f9-c5e058daca8a"
      },
      "execution_count": 18,
      "outputs": [
        {
          "output_type": "execute_result",
          "data": {
            "text/plain": [
              "list"
            ]
          },
          "metadata": {},
          "execution_count": 18
        }
      ]
    },
    {
      "cell_type": "code",
      "source": [
        "#PorterStemmer\n",
        "#Stemming\n",
        "from nltk.stem import PorterStemmer"
      ],
      "metadata": {
        "id": "C7oSeiW4RgQW"
      },
      "execution_count": 24,
      "outputs": []
    },
    {
      "cell_type": "code",
      "source": [
        "#Create an object class of PorterStemmer\n",
        "ps = PorterStemmer()"
      ],
      "metadata": {
        "id": "AyD-7SsUcn3F"
      },
      "execution_count": 25,
      "outputs": []
    },
    {
      "cell_type": "code",
      "source": [
        "words = ['programmer','program','programs','programming','programmers','programmed']"
      ],
      "metadata": {
        "id": "6HcA9_e5czmm"
      },
      "execution_count": 28,
      "outputs": []
    },
    {
      "cell_type": "code",
      "source": [
        "words"
      ],
      "metadata": {
        "colab": {
          "base_uri": "https://localhost:8080/"
        },
        "id": "p9Btmt9od6nW",
        "outputId": "93621790-8799-495e-b81f-0ac4666ea9bc"
      },
      "execution_count": 38,
      "outputs": [
        {
          "output_type": "execute_result",
          "data": {
            "text/plain": [
              "['programmer',\n",
              " 'program',\n",
              " 'programs',\n",
              " 'programming',\n",
              " 'programmers',\n",
              " 'programmed']"
            ]
          },
          "metadata": {},
          "execution_count": 38
        }
      ]
    },
    {
      "cell_type": "code",
      "source": [
        "len(words)"
      ],
      "metadata": {
        "colab": {
          "base_uri": "https://localhost:8080/"
        },
        "id": "CjlbGuQUdGwY",
        "outputId": "a717d1f1-1519-4403-c339-055408b9cefa"
      },
      "execution_count": 29,
      "outputs": [
        {
          "output_type": "execute_result",
          "data": {
            "text/plain": [
              "6"
            ]
          },
          "metadata": {},
          "execution_count": 29
        }
      ]
    },
    {
      "cell_type": "code",
      "source": [
        "#in -er as postfix it includes the last postfix i.e. 'm'\n",
        "#in -ing/ed as postfix it takes away the the last postfix i.e. 'm' \n",
        "for w in words:\n",
        "  print(w, \" : \",ps.stem(w))"
      ],
      "metadata": {
        "colab": {
          "base_uri": "https://localhost:8080/"
        },
        "id": "H0v69dJ6eLSx",
        "outputId": "c99612d3-3b64-46e3-be4f-0106309940cb"
      },
      "execution_count": 42,
      "outputs": [
        {
          "output_type": "stream",
          "name": "stdout",
          "text": [
            "programmer  :  programm\n",
            "program  :  program\n",
            "programs  :  program\n",
            "programming  :  program\n",
            "programmers  :  programm\n",
            "programmed  :  program\n"
          ]
        }
      ]
    },
    {
      "cell_type": "code",
      "source": [
        "sentence = \"Programmers program with Python or Scala programming languages\""
      ],
      "metadata": {
        "id": "qtGGP-HufcI1"
      },
      "execution_count": 43,
      "outputs": []
    },
    {
      "cell_type": "code",
      "source": [
        "words_1  = word_tokenize(sentence)"
      ],
      "metadata": {
        "id": "ynjipWozfyXk"
      },
      "execution_count": 44,
      "outputs": []
    },
    {
      "cell_type": "code",
      "source": [
        "words_1"
      ],
      "metadata": {
        "colab": {
          "base_uri": "https://localhost:8080/"
        },
        "id": "Bd69hbC8fyZs",
        "outputId": "77ba4743-2088-402c-e463-47d62e17e413"
      },
      "execution_count": 45,
      "outputs": [
        {
          "output_type": "execute_result",
          "data": {
            "text/plain": [
              "['Programmers',\n",
              " 'program',\n",
              " 'with',\n",
              " 'Python',\n",
              " 'or',\n",
              " 'Scala',\n",
              " 'programming',\n",
              " 'languages']"
            ]
          },
          "metadata": {},
          "execution_count": 45
        }
      ]
    },
    {
      "cell_type": "code",
      "source": [
        "type(words_1)"
      ],
      "metadata": {
        "colab": {
          "base_uri": "https://localhost:8080/"
        },
        "id": "sZof_swnf5bB",
        "outputId": "0a44711c-6256-42ea-e5ea-4e95f98b6e56"
      },
      "execution_count": 46,
      "outputs": [
        {
          "output_type": "execute_result",
          "data": {
            "text/plain": [
              "list"
            ]
          },
          "metadata": {},
          "execution_count": 46
        }
      ]
    },
    {
      "cell_type": "code",
      "source": [
        "len(words_1)"
      ],
      "metadata": {
        "colab": {
          "base_uri": "https://localhost:8080/"
        },
        "id": "IcicMzZKf5d9",
        "outputId": "ae6e88ae-4ac7-4dc6-ffd8-4e7862d76769"
      },
      "execution_count": 47,
      "outputs": [
        {
          "output_type": "execute_result",
          "data": {
            "text/plain": [
              "8"
            ]
          },
          "metadata": {},
          "execution_count": 47
        }
      ]
    },
    {
      "cell_type": "code",
      "source": [
        "for w in words_1:\n",
        "  print(w,\" : \",ps.stem(w))"
      ],
      "metadata": {
        "colab": {
          "base_uri": "https://localhost:8080/"
        },
        "id": "mDHgz0s2fycE",
        "outputId": "62f853cd-66ed-4bb0-b3c8-11d8b30fb77d"
      },
      "execution_count": 48,
      "outputs": [
        {
          "output_type": "stream",
          "name": "stdout",
          "text": [
            "Programmers  :  programm\n",
            "program  :  program\n",
            "with  :  with\n",
            "Python  :  python\n",
            "or  :  or\n",
            "Scala  :  scala\n",
            "programming  :  program\n",
            "languages  :  languag\n"
          ]
        }
      ]
    },
    {
      "cell_type": "code",
      "source": [
        "n=[]\n",
        "for x in words:\n",
        "  n.append(x)\n",
        "print(n)"
      ],
      "metadata": {
        "colab": {
          "base_uri": "https://localhost:8080/"
        },
        "id": "t35g-v5odHfu",
        "outputId": "9d1d1298-7676-4f34-8618-4a056ca59088"
      },
      "execution_count": 34,
      "outputs": [
        {
          "output_type": "stream",
          "name": "stdout",
          "text": [
            "['programmer', 'program', 'programs', 'programming', 'programmers', 'programmed']\n"
          ]
        }
      ]
    },
    {
      "cell_type": "code",
      "source": [
        "n"
      ],
      "metadata": {
        "colab": {
          "base_uri": "https://localhost:8080/"
        },
        "id": "vFcdJ7M1dVXJ",
        "outputId": "4bdc8ac8-5ea3-4fe8-fce3-9fd486207dca"
      },
      "execution_count": 35,
      "outputs": [
        {
          "output_type": "execute_result",
          "data": {
            "text/plain": [
              "['programmer',\n",
              " 'program',\n",
              " 'programs',\n",
              " 'programming',\n",
              " 'programmers',\n",
              " 'programmed']"
            ]
          },
          "metadata": {},
          "execution_count": 35
        }
      ]
    },
    {
      "cell_type": "code",
      "source": [
        "new_list = [x for x in words]"
      ],
      "metadata": {
        "id": "5oC7OZQOdu_-"
      },
      "execution_count": 36,
      "outputs": []
    },
    {
      "cell_type": "code",
      "source": [
        "new_list"
      ],
      "metadata": {
        "colab": {
          "base_uri": "https://localhost:8080/"
        },
        "id": "_hQCuh-Sd3NH",
        "outputId": "d066b742-cc71-4c11-e006-d0cb166da115"
      },
      "execution_count": 37,
      "outputs": [
        {
          "output_type": "execute_result",
          "data": {
            "text/plain": [
              "['programmer',\n",
              " 'program',\n",
              " 'programs',\n",
              " 'programming',\n",
              " 'programmers',\n",
              " 'programmed']"
            ]
          },
          "metadata": {},
          "execution_count": 37
        }
      ]
    },
    {
      "cell_type": "code",
      "source": [
        "#Print the list in lexicographical/stacked order\n",
        "for x in words:\n",
        "  print(x)"
      ],
      "metadata": {
        "colab": {
          "base_uri": "https://localhost:8080/"
        },
        "id": "anrW9c6Gd3xj",
        "outputId": "b9207754-af9f-4faf-ca01-d52b26e65d02"
      },
      "execution_count": 40,
      "outputs": [
        {
          "output_type": "stream",
          "name": "stdout",
          "text": [
            "programmer\n",
            "program\n",
            "programs\n",
            "programming\n",
            "programmers\n",
            "programmed\n"
          ]
        }
      ]
    },
    {
      "cell_type": "code",
      "source": [
        "nltk.download('wordnet')"
      ],
      "metadata": {
        "colab": {
          "base_uri": "https://localhost:8080/"
        },
        "id": "TGxLvqDYh7DH",
        "outputId": "ad87a8f3-27c3-4600-c229-0beed112305b"
      },
      "execution_count": 52,
      "outputs": [
        {
          "output_type": "stream",
          "name": "stderr",
          "text": [
            "[nltk_data] Downloading package wordnet to /root/nltk_data...\n"
          ]
        },
        {
          "output_type": "execute_result",
          "data": {
            "text/plain": [
              "True"
            ]
          },
          "metadata": {},
          "execution_count": 52
        }
      ]
    },
    {
      "cell_type": "code",
      "source": [
        "# nltk.download('all')"
      ],
      "metadata": {
        "id": "VSJO-yQ6jQq7"
      },
      "execution_count": null,
      "outputs": []
    },
    {
      "cell_type": "code",
      "source": [
        "# nltk.download()"
      ],
      "metadata": {
        "id": "T5A7KbZ8j8rS"
      },
      "execution_count": null,
      "outputs": []
    },
    {
      "cell_type": "code",
      "source": [
        "nltk.download('omw-1.4')"
      ],
      "metadata": {
        "colab": {
          "base_uri": "https://localhost:8080/"
        },
        "id": "ahT-TUqWiDcQ",
        "outputId": "95917311-1365-4d3d-8fd0-1780cb840f18"
      },
      "execution_count": 56,
      "outputs": [
        {
          "output_type": "stream",
          "name": "stderr",
          "text": [
            "[nltk_data] Downloading package omw-1.4 to /root/nltk_data...\n"
          ]
        },
        {
          "output_type": "execute_result",
          "data": {
            "text/plain": [
              "True"
            ]
          },
          "metadata": {},
          "execution_count": 56
        }
      ]
    },
    {
      "cell_type": "markdown",
      "source": [
        "# Lemmatization"
      ],
      "metadata": {
        "id": "tZQtdPvagw7L"
      }
    },
    {
      "cell_type": "code",
      "source": [
        "#import Lemmatization/Lemmatizer/Lemma\n",
        "from nltk.stem import WordNetLemmatizer"
      ],
      "metadata": {
        "id": "NYKWhyXGeFDq"
      },
      "execution_count": 57,
      "outputs": []
    },
    {
      "cell_type": "code",
      "source": [
        "# Create object of the class of WordNetLemmatizer\n",
        "lemmatizer = WordNetLemmatizer()"
      ],
      "metadata": {
        "id": "9HrBRvaAg86G"
      },
      "execution_count": 58,
      "outputs": []
    },
    {
      "cell_type": "code",
      "source": [
        "print(\"rocks :\", lemmatizer.lemmatize(\"rocks\"))"
      ],
      "metadata": {
        "colab": {
          "base_uri": "https://localhost:8080/"
        },
        "id": "5RuvjdmhhKfO",
        "outputId": "094036f8-740a-4dff-ed5f-b23c85364f8d"
      },
      "execution_count": 59,
      "outputs": [
        {
          "output_type": "stream",
          "name": "stdout",
          "text": [
            "rocks : rock\n"
          ]
        }
      ]
    },
    {
      "cell_type": "code",
      "source": [
        "print(\"corpora: \", lemmatizer.lemmatize('corpora'))"
      ],
      "metadata": {
        "colab": {
          "base_uri": "https://localhost:8080/"
        },
        "id": "mPohOo7Fh3x3",
        "outputId": "cf899623-4cd7-419f-b8de-bc0c0206aece"
      },
      "execution_count": 60,
      "outputs": [
        {
          "output_type": "stream",
          "name": "stdout",
          "text": [
            "corpora:  corpus\n"
          ]
        }
      ]
    },
    {
      "cell_type": "code",
      "source": [
        "#.lemmatize('word',pos='a') ; pos represents parts of speech ;  pos='a', where 'a' represents adjective\n",
        "print('better : ', lemmatizer.lemmatize('better',pos='a'))"
      ],
      "metadata": {
        "colab": {
          "base_uri": "https://localhost:8080/"
        },
        "id": "yk2U_3jBiTiB",
        "outputId": "2cbf81d8-c77b-4cfc-c735-cc4c63e6b3bb"
      },
      "execution_count": 75,
      "outputs": [
        {
          "output_type": "stream",
          "name": "stdout",
          "text": [
            "better :  good\n"
          ]
        }
      ]
    },
    {
      "cell_type": "code",
      "source": [
        "print('plays: ', lemmatizer.lemmatize('plays','v'))"
      ],
      "metadata": {
        "colab": {
          "base_uri": "https://localhost:8080/"
        },
        "id": "jxuCOosFidMK",
        "outputId": "35385a71-feb1-49e8-ea42-2bd77e28a13f"
      },
      "execution_count": 76,
      "outputs": [
        {
          "output_type": "stream",
          "name": "stdout",
          "text": [
            "plays:  play\n"
          ]
        }
      ]
    },
    {
      "cell_type": "code",
      "source": [
        "print('played: ', lemmatizer.lemmatize('played','v'))"
      ],
      "metadata": {
        "colab": {
          "base_uri": "https://localhost:8080/"
        },
        "id": "MHjYtoV5l0ZX",
        "outputId": "be1812a4-802a-40af-9683-9c8635ada3df"
      },
      "execution_count": 80,
      "outputs": [
        {
          "output_type": "stream",
          "name": "stdout",
          "text": [
            "played:  play\n"
          ]
        }
      ]
    },
    {
      "cell_type": "code",
      "source": [
        "print('playing: ', lemmatizer.lemmatize('playing','v'))"
      ],
      "metadata": {
        "colab": {
          "base_uri": "https://localhost:8080/"
        },
        "id": "fG7hVD6xmEsV",
        "outputId": "f4fd60ac-1985-4b39-a8b6-36f6502ee057"
      },
      "execution_count": 81,
      "outputs": [
        {
          "output_type": "stream",
          "name": "stdout",
          "text": [
            "playing:  play\n"
          ]
        }
      ]
    },
    {
      "cell_type": "code",
      "source": [
        "print('play: ', lemmatizer.lemmatize('play','v'))"
      ],
      "metadata": {
        "colab": {
          "base_uri": "https://localhost:8080/"
        },
        "id": "DGnFAEyCmhFm",
        "outputId": "c54a07db-9bae-4311-c4fe-5ad999c78445"
      },
      "execution_count": 82,
      "outputs": [
        {
          "output_type": "stream",
          "name": "stdout",
          "text": [
            "play:  play\n"
          ]
        }
      ]
    },
    {
      "cell_type": "code",
      "source": [
        "#Communication with stem\n",
        "print('Communication: ', ps.stem('Communication'))"
      ],
      "metadata": {
        "colab": {
          "base_uri": "https://localhost:8080/"
        },
        "id": "iciUDy1wmj8g",
        "outputId": "2f346865-3107-4655-d7ea-515bdecdc0a0"
      },
      "execution_count": 83,
      "outputs": [
        {
          "output_type": "stream",
          "name": "stdout",
          "text": [
            "Communication:  commun\n"
          ]
        }
      ]
    },
    {
      "cell_type": "code",
      "source": [
        "#Communication with lemma\n",
        "print('Communication: ', lemmatizer.lemmatize('Communication', 'v'))"
      ],
      "metadata": {
        "colab": {
          "base_uri": "https://localhost:8080/"
        },
        "id": "OyHlznJDnPy6",
        "outputId": "17f45b8f-568c-4ceb-ef62-271ccb72337f"
      },
      "execution_count": 84,
      "outputs": [
        {
          "output_type": "stream",
          "name": "stdout",
          "text": [
            "Communication:  Communication\n"
          ]
        }
      ]
    },
    {
      "cell_type": "markdown",
      "source": [
        "## Parts of Speech = POS"
      ],
      "metadata": {
        "id": "xiuGfbZgo_dI"
      }
    },
    {
      "cell_type": "code",
      "source": [
        "#pos_tagging - pos_tag\n",
        "from nltk import pos_tag"
      ],
      "metadata": {
        "id": "bDifhf7FnpcN"
      },
      "execution_count": 85,
      "outputs": []
    },
    {
      "cell_type": "code",
      "source": [
        "text = 'Simplilearn is a great Machine Learning platform.'"
      ],
      "metadata": {
        "id": "KOBclT2spmCa"
      },
      "execution_count": 86,
      "outputs": []
    },
    {
      "cell_type": "code",
      "source": [
        "tokens = word_tokenize(text)"
      ],
      "metadata": {
        "id": "2PMBdvU1p1ta"
      },
      "execution_count": 87,
      "outputs": []
    },
    {
      "cell_type": "code",
      "source": [
        "tokens"
      ],
      "metadata": {
        "colab": {
          "base_uri": "https://localhost:8080/"
        },
        "id": "dvLZlRrEp8ei",
        "outputId": "4ba3f3dd-dd97-4f95-e4b3-aab180811d59"
      },
      "execution_count": 88,
      "outputs": [
        {
          "output_type": "execute_result",
          "data": {
            "text/plain": [
              "['Simplilearn', 'is', 'a', 'great', 'Machine', 'Learning', 'platform', '.']"
            ]
          },
          "metadata": {},
          "execution_count": 88
        }
      ]
    },
    {
      "cell_type": "code",
      "source": [
        "len(tokens)"
      ],
      "metadata": {
        "colab": {
          "base_uri": "https://localhost:8080/"
        },
        "id": "hz_f0Padp86H",
        "outputId": "8a167002-27d0-4fb5-f4cd-9265c9982170"
      },
      "execution_count": 89,
      "outputs": [
        {
          "output_type": "execute_result",
          "data": {
            "text/plain": [
              "8"
            ]
          },
          "metadata": {},
          "execution_count": 89
        }
      ]
    },
    {
      "cell_type": "code",
      "source": [
        "type(tokens)"
      ],
      "metadata": {
        "colab": {
          "base_uri": "https://localhost:8080/"
        },
        "id": "r7I8GncwqBIZ",
        "outputId": "c1f806bb-1c65-4029-f037-b323ba64c49a"
      },
      "execution_count": 90,
      "outputs": [
        {
          "output_type": "execute_result",
          "data": {
            "text/plain": [
              "list"
            ]
          },
          "metadata": {},
          "execution_count": 90
        }
      ]
    },
    {
      "cell_type": "code",
      "source": [
        "nltk.download('averaged_perceptron_tagger')"
      ],
      "metadata": {
        "colab": {
          "base_uri": "https://localhost:8080/"
        },
        "id": "v71zHTlBqPNt",
        "outputId": "ebd86bba-3502-4682-d8b2-45f762ed595c"
      },
      "execution_count": 92,
      "outputs": [
        {
          "output_type": "stream",
          "name": "stderr",
          "text": [
            "[nltk_data] Downloading package averaged_perceptron_tagger to\n",
            "[nltk_data]     /root/nltk_data...\n",
            "[nltk_data]   Unzipping taggers/averaged_perceptron_tagger.zip.\n"
          ]
        },
        {
          "output_type": "execute_result",
          "data": {
            "text/plain": [
              "True"
            ]
          },
          "metadata": {},
          "execution_count": 92
        }
      ]
    },
    {
      "cell_type": "code",
      "source": [
        "postag = pos_tag(tokens)"
      ],
      "metadata": {
        "id": "hs94m96tqC5j"
      },
      "execution_count": 94,
      "outputs": []
    },
    {
      "cell_type": "code",
      "source": [
        "postag"
      ],
      "metadata": {
        "colab": {
          "base_uri": "https://localhost:8080/"
        },
        "id": "wYXtJSwgqL81",
        "outputId": "ab092f85-3727-4317-a4b2-4ec59a36f76e"
      },
      "execution_count": 95,
      "outputs": [
        {
          "output_type": "execute_result",
          "data": {
            "text/plain": [
              "[('Simplilearn', 'NNP'),\n",
              " ('is', 'VBZ'),\n",
              " ('a', 'DT'),\n",
              " ('great', 'JJ'),\n",
              " ('Machine', 'NNP'),\n",
              " ('Learning', 'NNP'),\n",
              " ('platform', 'NN'),\n",
              " ('.', '.')]"
            ]
          },
          "metadata": {},
          "execution_count": 95
        }
      ]
    },
    {
      "cell_type": "code",
      "source": [],
      "metadata": {
        "id": "40UzL6F9qWn9"
      },
      "execution_count": null,
      "outputs": []
    }
  ]
}