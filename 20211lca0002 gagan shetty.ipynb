{
 "cells": [
  {
   "cell_type": "code",
   "execution_count": null,
   "id": "fdf78011",
   "metadata": {},
   "outputs": [],
   "source": [
    "Assignment 1"
   ]
  },
  {
   "cell_type": "code",
   "execution_count": 1,
   "id": "41ba1407",
   "metadata": {},
   "outputs": [],
   "source": [
    "import nltk\n",
    "from nltk import sent_tokenize\n",
    "from nltk import word_tokenize"
   ]
  },
  {
   "cell_type": "code",
   "execution_count": 2,
   "id": "a10d35a3",
   "metadata": {},
   "outputs": [
    {
     "name": "stderr",
     "output_type": "stream",
     "text": [
      "[nltk_data] Downloading package punkt to\n",
      "[nltk_data]     /Users/gaganshetty/nltk_data...\n",
      "[nltk_data]   Package punkt is already up-to-date!\n"
     ]
    },
    {
     "data": {
      "text/plain": [
       "True"
      ]
     },
     "execution_count": 2,
     "metadata": {},
     "output_type": "execute_result"
    }
   ],
   "source": [
    "import nltk\n",
    "nltk.download('punkt')"
   ]
  },
  {
   "cell_type": "code",
   "execution_count": 3,
   "id": "f62886e3",
   "metadata": {},
   "outputs": [
    {
     "name": "stdout",
     "output_type": "stream",
     "text": [
      "['natural language processing.', 'natural language is an exciting area to work']\n",
      "2\n"
     ]
    }
   ],
   "source": [
    "from nltk.tokenize import sent_tokenize,word_tokenize\n",
    "\n",
    "text = \"natural language processing. natural language is an exciting area to work\"\n",
    "\n",
    "t1=sent_tokenize(text)\n",
    "print(t1)\n",
    "print(len(t1))"
   ]
  },
  {
   "cell_type": "code",
   "execution_count": 4,
   "id": "985189f5",
   "metadata": {},
   "outputs": [
    {
     "name": "stdout",
     "output_type": "stream",
     "text": [
      "['natural', 'language', 'processing', 'is', 'an', 'exciting', 'area', 'to', 'work', 'in']\n",
      "10\n"
     ]
    }
   ],
   "source": [
    "text = \"natural language processing is an exciting area to work in\"\n",
    "\n",
    "t1=word_tokenize(text)\n",
    "print(t1)\n",
    "print(len(t1))"
   ]
  },
  {
   "cell_type": "code",
   "execution_count": 13,
   "id": "8f010eb7",
   "metadata": {
    "scrolled": true
   },
   "outputs": [
    {
     "name": "stdout",
     "output_type": "stream",
     "text": [
      "<class 'str'>\n",
      "745\n",
      "Natural language processing is a stem of artificial intelligence that helps computer understand, interpret, and influence human language.\n",
      "\n",
      "It draws from many discipline counting computer science and computational linguistic in its chase to fill the gap between human communication and computer indulgent.\n",
      "\n",
      "Machine translation is a typical test of language analysis and language production.\n",
      "In this we have to use a similar corpus, a compilation of texts each of which is translated into one or more other languages that unique.\n",
      "\n",
      "The approach skips hundreds of significant details, requires a lot of characteristics human engineering ,\n",
      "Consist of many diverse and self-governing machine learning problem and in general is a very compound system.\n",
      "\n",
      "\n",
      "\n",
      "sentence tokenize\n",
      "['Natural language processing is a stem of artificial intelligence that helps computer understand, interpret, and influence human language.', 'It draws from many discipline counting computer science and computational linguistic in its chase to fill the gap between human communication and computer indulgent.', 'Machine translation is a typical test of language analysis and language production.', 'In this we have to use a similar corpus, a compilation of texts each of which is translated into one or more other languages that unique.', 'The approach skips hundreds of significant details, requires a lot of characteristics human engineering ,\\nConsist of many diverse and self-governing machine learning problem and in general is a very compound system.']\n",
      "5\n",
      "\n",
      "\n",
      "word tokenize\n",
      "['Natural', 'language', 'processing', 'is', 'a', 'stem', 'of', 'artificial', 'intelligence', 'that', 'helps', 'computer', 'understand', ',', 'interpret', ',', 'and', 'influence', 'human', 'language', '.', 'It', 'draws', 'from', 'many', 'discipline', 'counting', 'computer', 'science', 'and', 'computational', 'linguistic', 'in', 'its', 'chase', 'to', 'fill', 'the', 'gap', 'between', 'human', 'communication', 'and', 'computer', 'indulgent', '.', 'Machine', 'translation', 'is', 'a', 'typical', 'test', 'of', 'language', 'analysis', 'and', 'language', 'production', '.', 'In', 'this', 'we', 'have', 'to', 'use', 'a', 'similar', 'corpus', ',', 'a', 'compilation', 'of', 'texts', 'each', 'of', 'which', 'is', 'translated', 'into', 'one', 'or', 'more', 'other', 'languages', 'that', 'unique', '.', 'The', 'approach', 'skips', 'hundreds', 'of', 'significant', 'details', ',', 'requires', 'a', 'lot', 'of', 'characteristics', 'human', 'engineering', ',', 'Consist', 'of', 'many', 'diverse', 'and', 'self-governing', 'machine', 'learning', 'problem', 'and', 'in', 'general', 'is', 'a', 'very', 'compound', 'system', '.']\n",
      "121\n"
     ]
    }
   ],
   "source": [
    "text_file = open('/Users/gaganshetty/Desktop/nl.txt')\n",
    "text=text_file.read()\n",
    "print(type(text))\n",
    "print(len(text))\n",
    "print(text)\n",
    "print(\"\\n\")\n",
    "\n",
    "print(\"sentence tokenize\")\n",
    "t1=sent_tokenize(text)\n",
    "print(t1)\n",
    "print(len(t1))\n",
    "print(\"\\n\")\n",
    "\n",
    "print(\"word tokenize\")\n",
    "t1=word_tokenize(text)\n",
    "print(t1)\n",
    "print(len(t1))"
   ]
  },
  {
   "cell_type": "markdown",
   "id": "f046186f",
   "metadata": {},
   "source": [
    "# "
   ]
  },
  {
   "cell_type": "code",
   "execution_count": 41,
   "id": "9f06a92d",
   "metadata": {},
   "outputs": [
    {
     "data": {
      "text/plain": [
       "[('of', 7),\n",
       " ('a', 6),\n",
       " ('and', 6),\n",
       " (',', 5),\n",
       " ('.', 5),\n",
       " ('language', 4),\n",
       " ('is', 4),\n",
       " ('computer', 3),\n",
       " ('human', 3),\n",
       " ('that', 2)]"
      ]
     },
     "execution_count": 41,
     "metadata": {},
     "output_type": "execute_result"
    }
   ],
   "source": [
    "from nltk.probability import FreqDist\n",
    "fdist = FreqDist (t1)\n",
    "fdist.most_common(10)"
   ]
  },
  {
   "cell_type": "code",
   "execution_count": 42,
   "id": "8f2cd660",
   "metadata": {},
   "outputs": [
    {
     "data": {
      "image/png": "[encoded data removed]",
      "text/plain": [
       "<Figure size 432x288 with 1 Axes>"
      ]
     },
     "metadata": {
      "needs_background": "light"
     },
     "output_type": "display_data"
    },
    {
     "data": {
      "text/plain": [
       "<AxesSubplot:xlabel='Samples', ylabel='Counts'>"
      ]
     },
     "execution_count": 42,
     "metadata": {},
     "output_type": "execute_result"
    }
   ],
   "source": [
    "import matplotlib.pyplot as plt\n",
    "fdist.plot(10)"
   ]
  },
  {
   "cell_type": "code",
   "execution_count": 33,
   "id": "20ca70fd",
   "metadata": {},
   "outputs": [
    {
     "name": "stdout",
     "output_type": "stream",
     "text": [
      "['i', 'me', 'my', 'myself', 'we', 'our', 'ours', 'ourselves', 'you', \"you're\", \"you've\", \"you'll\", \"you'd\", 'your', 'yours', 'yourself', 'yourselves', 'he', 'him', 'his', 'himself', 'she', \"she's\", 'her', 'hers', 'herself', 'it', \"it's\", 'its', 'itself', 'they', 'them', 'their', 'theirs', 'themselves', 'what', 'which', 'who', 'whom', 'this', 'that', \"that'll\", 'these', 'those', 'am', 'is', 'are', 'was', 'were', 'be', 'been', 'being', 'have', 'has', 'had', 'having', 'do', 'does', 'did', 'doing', 'a', 'an', 'the', 'and', 'but', 'if', 'or', 'because', 'as', 'until', 'while', 'of', 'at', 'by', 'for', 'with', 'about', 'against', 'between', 'into', 'through', 'during', 'before', 'after', 'above', 'below', 'to', 'from', 'up', 'down', 'in', 'out', 'on', 'off', 'over', 'under', 'again', 'further', 'then', 'once', 'here', 'there', 'when', 'where', 'why', 'how', 'all', 'any', 'both', 'each', 'few', 'more', 'most', 'other', 'some', 'such', 'no', 'nor', 'not', 'only', 'own', 'same', 'so', 'than', 'too', 'very', 's', 't', 'can', 'will', 'just', 'don', \"don't\", 'should', \"should've\", 'now', 'd', 'll', 'm', 'o', 're', 've', 'y', 'ain', 'aren', \"aren't\", 'couldn', \"couldn't\", 'didn', \"didn't\", 'doesn', \"doesn't\", 'hadn', \"hadn't\", 'hasn', \"hasn't\", 'haven', \"haven't\", 'isn', \"isn't\", 'ma', 'mightn', \"mightn't\", 'mustn', \"mustn't\", 'needn', \"needn't\", 'shan', \"shan't\", 'shouldn', \"shouldn't\", 'wasn', \"wasn't\", 'weren', \"weren't\", 'won', \"won't\", 'wouldn', \"wouldn't\"]\n"
     ]
    },
    {
     "name": "stderr",
     "output_type": "stream",
     "text": [
      "[nltk_data] Downloading package stopwords to\n",
      "[nltk_data]     /Users/gaganshetty/nltk_data...\n",
      "[nltk_data]   Package stopwords is already up-to-date!\n"
     ]
    }
   ],
   "source": [
    "from nltk.corpus import stopwords\n",
    "nltk.download('stopwords')\n",
    "stopwords = stopwords.words(\"english\")\n",
    "print(stopwords)\n"
   ]
  },
  {
   "cell_type": "code",
   "execution_count": 44,
   "id": "ccd6ca3a",
   "metadata": {},
   "outputs": [
    {
     "data": {
      "image/png": "[encoded data removed]",
      "text/plain": [
       "<Figure size 432x288 with 1 Axes>"
      ]
     },
     "metadata": {
      "needs_background": "light"
     },
     "output_type": "display_data"
    },
    {
     "data": {
      "text/plain": [
       "<AxesSubplot:xlabel='Samples', ylabel='Counts'>"
      ]
     },
     "execution_count": 44,
     "metadata": {},
     "output_type": "execute_result"
    }
   ],
   "source": [
    "import matplotlib.pyplot as plt\n",
    "fdist.plot(10)"
   ]
  },
  {
   "cell_type": "code",
   "execution_count": 59,
   "id": "483fc782",
   "metadata": {},
   "outputs": [
    {
     "name": "stdout",
     "output_type": "stream",
     "text": [
      "<class 'str'>\n",
      "137\n",
      "Natural language processing is a stem of artificial intelligence that helps computer understand, interpret, and influence human language.\n"
     ]
    }
   ],
   "source": [
    "text_file = open('/Users/gaganshetty/Desktop/nn.txt')\n",
    "text = text_file.read()\n",
    "print(type(text))\n",
    "print(len(text))\n",
    "print(text)"
   ]
  },
  {
   "cell_type": "code",
   "execution_count": 68,
   "id": "6a78cd9c",
   "metadata": {},
   "outputs": [
    {
     "name": "stdout",
     "output_type": "stream",
     "text": [
      "['natural']\n",
      "1\n",
      "['natural', 'language']\n",
      "2\n",
      "['natural', 'language', 'processing']\n",
      "3\n",
      "['natural', 'language', 'processing', 'is']\n",
      "4\n",
      "['natural', 'language', 'processing', 'is', 'a']\n",
      "5\n",
      "['natural', 'language', 'processing', 'is', 'a', 'stem']\n",
      "6\n",
      "['natural', 'language', 'processing', 'is', 'a', 'stem', 'of']\n",
      "7\n",
      "['natural', 'language', 'processing', 'is', 'a', 'stem', 'of', 'artificial']\n",
      "8\n",
      "['natural', 'language', 'processing', 'is', 'a', 'stem', 'of', 'artificial', 'intelligence']\n",
      "9\n",
      "['natural', 'language', 'processing', 'is', 'a', 'stem', 'of', 'artificial', 'intelligence', 'that']\n",
      "10\n",
      "['natural', 'language', 'processing', 'is', 'a', 'stem', 'of', 'artificial', 'intelligence', 'that', 'helps']\n",
      "11\n",
      "['natural', 'language', 'processing', 'is', 'a', 'stem', 'of', 'artificial', 'intelligence', 'that', 'helps', 'computer']\n",
      "12\n",
      "['natural', 'language', 'processing', 'is', 'a', 'stem', 'of', 'artificial', 'intelligence', 'that', 'helps', 'computer', 'understand']\n",
      "13\n",
      "['natural', 'language', 'processing', 'is', 'a', 'stem', 'of', 'artificial', 'intelligence', 'that', 'helps', 'computer', 'understand', 'interpret']\n",
      "14\n",
      "['natural', 'language', 'processing', 'is', 'a', 'stem', 'of', 'artificial', 'intelligence', 'that', 'helps', 'computer', 'understand', 'interpret', 'and']\n",
      "15\n",
      "['natural', 'language', 'processing', 'is', 'a', 'stem', 'of', 'artificial', 'intelligence', 'that', 'helps', 'computer', 'understand', 'interpret', 'and', 'influence']\n",
      "16\n",
      "['natural', 'language', 'processing', 'is', 'a', 'stem', 'of', 'artificial', 'intelligence', 'that', 'helps', 'computer', 'understand', 'interpret', 'and', 'influence', 'human']\n",
      "17\n",
      "['natural', 'language', 'processing', 'is', 'a', 'stem', 'of', 'artificial', 'intelligence', 'that', 'helps', 'computer', 'understand', 'interpret', 'and', 'influence', 'human', 'language']\n",
      "18\n",
      "['natural', 'language', 'processing', 'is', 'a', 'stem', 'of', 'artificial', 'intelligence', 'that', 'helps', 'computer', 'understand', 'interpret', 'and', 'influence', 'human', 'language', 'it']\n",
      "19\n",
      "['natural', 'language', 'processing', 'is', 'a', 'stem', 'of', 'artificial', 'intelligence', 'that', 'helps', 'computer', 'understand', 'interpret', 'and', 'influence', 'human', 'language', 'it', 'draws']\n",
      "20\n",
      "['natural', 'language', 'processing', 'is', 'a', 'stem', 'of', 'artificial', 'intelligence', 'that', 'helps', 'computer', 'understand', 'interpret', 'and', 'influence', 'human', 'language', 'it', 'draws', 'from']\n",
      "21\n",
      "['natural', 'language', 'processing', 'is', 'a', 'stem', 'of', 'artificial', 'intelligence', 'that', 'helps', 'computer', 'understand', 'interpret', 'and', 'influence', 'human', 'language', 'it', 'draws', 'from', 'many']\n",
      "22\n",
      "['natural', 'language', 'processing', 'is', 'a', 'stem', 'of', 'artificial', 'intelligence', 'that', 'helps', 'computer', 'understand', 'interpret', 'and', 'influence', 'human', 'language', 'it', 'draws', 'from', 'many', 'discipline']\n",
      "23\n",
      "['natural', 'language', 'processing', 'is', 'a', 'stem', 'of', 'artificial', 'intelligence', 'that', 'helps', 'computer', 'understand', 'interpret', 'and', 'influence', 'human', 'language', 'it', 'draws', 'from', 'many', 'discipline', 'counting']\n",
      "24\n",
      "['natural', 'language', 'processing', 'is', 'a', 'stem', 'of', 'artificial', 'intelligence', 'that', 'helps', 'computer', 'understand', 'interpret', 'and', 'influence', 'human', 'language', 'it', 'draws', 'from', 'many', 'discipline', 'counting', 'computer']\n",
      "25\n",
      "['natural', 'language', 'processing', 'is', 'a', 'stem', 'of', 'artificial', 'intelligence', 'that', 'helps', 'computer', 'understand', 'interpret', 'and', 'influence', 'human', 'language', 'it', 'draws', 'from', 'many', 'discipline', 'counting', 'computer', 'science']\n",
      "26\n",
      "['natural', 'language', 'processing', 'is', 'a', 'stem', 'of', 'artificial', 'intelligence', 'that', 'helps', 'computer', 'understand', 'interpret', 'and', 'influence', 'human', 'language', 'it', 'draws', 'from', 'many', 'discipline', 'counting', 'computer', 'science', 'and']\n",
      "27\n",
      "['natural', 'language', 'processing', 'is', 'a', 'stem', 'of', 'artificial', 'intelligence', 'that', 'helps', 'computer', 'understand', 'interpret', 'and', 'influence', 'human', 'language', 'it', 'draws', 'from', 'many', 'discipline', 'counting', 'computer', 'science', 'and', 'computational']\n",
      "28\n",
      "['natural', 'language', 'processing', 'is', 'a', 'stem', 'of', 'artificial', 'intelligence', 'that', 'helps', 'computer', 'understand', 'interpret', 'and', 'influence', 'human', 'language', 'it', 'draws', 'from', 'many', 'discipline', 'counting', 'computer', 'science', 'and', 'computational', 'linguistic']\n",
      "29\n",
      "['natural', 'language', 'processing', 'is', 'a', 'stem', 'of', 'artificial', 'intelligence', 'that', 'helps', 'computer', 'understand', 'interpret', 'and', 'influence', 'human', 'language', 'it', 'draws', 'from', 'many', 'discipline', 'counting', 'computer', 'science', 'and', 'computational', 'linguistic', 'in']\n",
      "30\n",
      "['natural', 'language', 'processing', 'is', 'a', 'stem', 'of', 'artificial', 'intelligence', 'that', 'helps', 'computer', 'understand', 'interpret', 'and', 'influence', 'human', 'language', 'it', 'draws', 'from', 'many', 'discipline', 'counting', 'computer', 'science', 'and', 'computational', 'linguistic', 'in', 'its']\n",
      "31\n",
      "['natural', 'language', 'processing', 'is', 'a', 'stem', 'of', 'artificial', 'intelligence', 'that', 'helps', 'computer', 'understand', 'interpret', 'and', 'influence', 'human', 'language', 'it', 'draws', 'from', 'many', 'discipline', 'counting', 'computer', 'science', 'and', 'computational', 'linguistic', 'in', 'its', 'chase']\n",
      "32\n",
      "['natural', 'language', 'processing', 'is', 'a', 'stem', 'of', 'artificial', 'intelligence', 'that', 'helps', 'computer', 'understand', 'interpret', 'and', 'influence', 'human', 'language', 'it', 'draws', 'from', 'many', 'discipline', 'counting', 'computer', 'science', 'and', 'computational', 'linguistic', 'in', 'its', 'chase', 'to']\n",
      "33\n",
      "['natural', 'language', 'processing', 'is', 'a', 'stem', 'of', 'artificial', 'intelligence', 'that', 'helps', 'computer', 'understand', 'interpret', 'and', 'influence', 'human', 'language', 'it', 'draws', 'from', 'many', 'discipline', 'counting', 'computer', 'science', 'and', 'computational', 'linguistic', 'in', 'its', 'chase', 'to', 'fill']\n",
      "34\n",
      "['natural', 'language', 'processing', 'is', 'a', 'stem', 'of', 'artificial', 'intelligence', 'that', 'helps', 'computer', 'understand', 'interpret', 'and', 'influence', 'human', 'language', 'it', 'draws', 'from', 'many', 'discipline', 'counting', 'computer', 'science', 'and', 'computational', 'linguistic', 'in', 'its', 'chase', 'to', 'fill', 'the']\n",
      "35\n",
      "['natural', 'language', 'processing', 'is', 'a', 'stem', 'of', 'artificial', 'intelligence', 'that', 'helps', 'computer', 'understand', 'interpret', 'and', 'influence', 'human', 'language', 'it', 'draws', 'from', 'many', 'discipline', 'counting', 'computer', 'science', 'and', 'computational', 'linguistic', 'in', 'its', 'chase', 'to', 'fill', 'the', 'gap']\n",
      "36\n",
      "['natural', 'language', 'processing', 'is', 'a', 'stem', 'of', 'artificial', 'intelligence', 'that', 'helps', 'computer', 'understand', 'interpret', 'and', 'influence', 'human', 'language', 'it', 'draws', 'from', 'many', 'discipline', 'counting', 'computer', 'science', 'and', 'computational', 'linguistic', 'in', 'its', 'chase', 'to', 'fill', 'the', 'gap', 'between']\n",
      "37\n",
      "['natural', 'language', 'processing', 'is', 'a', 'stem', 'of', 'artificial', 'intelligence', 'that', 'helps', 'computer', 'understand', 'interpret', 'and', 'influence', 'human', 'language', 'it', 'draws', 'from', 'many', 'discipline', 'counting', 'computer', 'science', 'and', 'computational', 'linguistic', 'in', 'its', 'chase', 'to', 'fill', 'the', 'gap', 'between', 'human']\n",
      "38\n",
      "['natural', 'language', 'processing', 'is', 'a', 'stem', 'of', 'artificial', 'intelligence', 'that', 'helps', 'computer', 'understand', 'interpret', 'and', 'influence', 'human', 'language', 'it', 'draws', 'from', 'many', 'discipline', 'counting', 'computer', 'science', 'and', 'computational', 'linguistic', 'in', 'its', 'chase', 'to', 'fill', 'the', 'gap', 'between', 'human', 'communication']\n",
      "39\n",
      "['natural', 'language', 'processing', 'is', 'a', 'stem', 'of', 'artificial', 'intelligence', 'that', 'helps', 'computer', 'understand', 'interpret', 'and', 'influence', 'human', 'language', 'it', 'draws', 'from', 'many', 'discipline', 'counting', 'computer', 'science', 'and', 'computational', 'linguistic', 'in', 'its', 'chase', 'to', 'fill', 'the', 'gap', 'between', 'human', 'communication', 'and']\n",
      "40\n",
      "['natural', 'language', 'processing', 'is', 'a', 'stem', 'of', 'artificial', 'intelligence', 'that', 'helps', 'computer', 'understand', 'interpret', 'and', 'influence', 'human', 'language', 'it', 'draws', 'from', 'many', 'discipline', 'counting', 'computer', 'science', 'and', 'computational', 'linguistic', 'in', 'its', 'chase', 'to', 'fill', 'the', 'gap', 'between', 'human', 'communication', 'and', 'computer']\n",
      "41\n",
      "['natural', 'language', 'processing', 'is', 'a', 'stem', 'of', 'artificial', 'intelligence', 'that', 'helps', 'computer', 'understand', 'interpret', 'and', 'influence', 'human', 'language', 'it', 'draws', 'from', 'many', 'discipline', 'counting', 'computer', 'science', 'and', 'computational', 'linguistic', 'in', 'its', 'chase', 'to', 'fill', 'the', 'gap', 'between', 'human', 'communication', 'and', 'computer', 'indulgent']\n",
      "42\n",
      "['natural', 'language', 'processing', 'is', 'a', 'stem', 'of', 'artificial', 'intelligence', 'that', 'helps', 'computer', 'understand', 'interpret', 'and', 'influence', 'human', 'language', 'it', 'draws', 'from', 'many', 'discipline', 'counting', 'computer', 'science', 'and', 'computational', 'linguistic', 'in', 'its', 'chase', 'to', 'fill', 'the', 'gap', 'between', 'human', 'communication', 'and', 'computer', 'indulgent', 'machine']\n",
      "43\n",
      "['natural', 'language', 'processing', 'is', 'a', 'stem', 'of', 'artificial', 'intelligence', 'that', 'helps', 'computer', 'understand', 'interpret', 'and', 'influence', 'human', 'language', 'it', 'draws', 'from', 'many', 'discipline', 'counting', 'computer', 'science', 'and', 'computational', 'linguistic', 'in', 'its', 'chase', 'to', 'fill', 'the', 'gap', 'between', 'human', 'communication', 'and', 'computer', 'indulgent', 'machine', 'translation']\n",
      "44\n",
      "['natural', 'language', 'processing', 'is', 'a', 'stem', 'of', 'artificial', 'intelligence', 'that', 'helps', 'computer', 'understand', 'interpret', 'and', 'influence', 'human', 'language', 'it', 'draws', 'from', 'many', 'discipline', 'counting', 'computer', 'science', 'and', 'computational', 'linguistic', 'in', 'its', 'chase', 'to', 'fill', 'the', 'gap', 'between', 'human', 'communication', 'and', 'computer', 'indulgent', 'machine', 'translation', 'is']\n",
      "45\n",
      "['natural', 'language', 'processing', 'is', 'a', 'stem', 'of', 'artificial', 'intelligence', 'that', 'helps', 'computer', 'understand', 'interpret', 'and', 'influence', 'human', 'language', 'it', 'draws', 'from', 'many', 'discipline', 'counting', 'computer', 'science', 'and', 'computational', 'linguistic', 'in', 'its', 'chase', 'to', 'fill', 'the', 'gap', 'between', 'human', 'communication', 'and', 'computer', 'indulgent', 'machine', 'translation', 'is', 'a']\n",
      "46\n",
      "['natural', 'language', 'processing', 'is', 'a', 'stem', 'of', 'artificial', 'intelligence', 'that', 'helps', 'computer', 'understand', 'interpret', 'and', 'influence', 'human', 'language', 'it', 'draws', 'from', 'many', 'discipline', 'counting', 'computer', 'science', 'and', 'computational', 'linguistic', 'in', 'its', 'chase', 'to', 'fill', 'the', 'gap', 'between', 'human', 'communication', 'and', 'computer', 'indulgent', 'machine', 'translation', 'is', 'a', 'typical']\n",
      "47\n",
      "['natural', 'language', 'processing', 'is', 'a', 'stem', 'of', 'artificial', 'intelligence', 'that', 'helps', 'computer', 'understand', 'interpret', 'and', 'influence', 'human', 'language', 'it', 'draws', 'from', 'many', 'discipline', 'counting', 'computer', 'science', 'and', 'computational', 'linguistic', 'in', 'its', 'chase', 'to', 'fill', 'the', 'gap', 'between', 'human', 'communication', 'and', 'computer', 'indulgent', 'machine', 'translation', 'is', 'a', 'typical', 'test']\n",
      "48\n",
      "['natural', 'language', 'processing', 'is', 'a', 'stem', 'of', 'artificial', 'intelligence', 'that', 'helps', 'computer', 'understand', 'interpret', 'and', 'influence', 'human', 'language', 'it', 'draws', 'from', 'many', 'discipline', 'counting', 'computer', 'science', 'and', 'computational', 'linguistic', 'in', 'its', 'chase', 'to', 'fill', 'the', 'gap', 'between', 'human', 'communication', 'and', 'computer', 'indulgent', 'machine', 'translation', 'is', 'a', 'typical', 'test', 'of']\n",
      "49\n",
      "['natural', 'language', 'processing', 'is', 'a', 'stem', 'of', 'artificial', 'intelligence', 'that', 'helps', 'computer', 'understand', 'interpret', 'and', 'influence', 'human', 'language', 'it', 'draws', 'from', 'many', 'discipline', 'counting', 'computer', 'science', 'and', 'computational', 'linguistic', 'in', 'its', 'chase', 'to', 'fill', 'the', 'gap', 'between', 'human', 'communication', 'and', 'computer', 'indulgent', 'machine', 'translation', 'is', 'a', 'typical', 'test', 'of', 'language']\n",
      "50\n",
      "['natural', 'language', 'processing', 'is', 'a', 'stem', 'of', 'artificial', 'intelligence', 'that', 'helps', 'computer', 'understand', 'interpret', 'and', 'influence', 'human', 'language', 'it', 'draws', 'from', 'many', 'discipline', 'counting', 'computer', 'science', 'and', 'computational', 'linguistic', 'in', 'its', 'chase', 'to', 'fill', 'the', 'gap', 'between', 'human', 'communication', 'and', 'computer', 'indulgent', 'machine', 'translation', 'is', 'a', 'typical', 'test', 'of', 'language', 'analysis']\n",
      "51\n",
      "['natural', 'language', 'processing', 'is', 'a', 'stem', 'of', 'artificial', 'intelligence', 'that', 'helps', 'computer', 'understand', 'interpret', 'and', 'influence', 'human', 'language', 'it', 'draws', 'from', 'many', 'discipline', 'counting', 'computer', 'science', 'and', 'computational', 'linguistic', 'in', 'its', 'chase', 'to', 'fill', 'the', 'gap', 'between', 'human', 'communication', 'and', 'computer', 'indulgent', 'machine', 'translation', 'is', 'a', 'typical', 'test', 'of', 'language', 'analysis', 'and']\n",
      "52\n",
      "['natural', 'language', 'processing', 'is', 'a', 'stem', 'of', 'artificial', 'intelligence', 'that', 'helps', 'computer', 'understand', 'interpret', 'and', 'influence', 'human', 'language', 'it', 'draws', 'from', 'many', 'discipline', 'counting', 'computer', 'science', 'and', 'computational', 'linguistic', 'in', 'its', 'chase', 'to', 'fill', 'the', 'gap', 'between', 'human', 'communication', 'and', 'computer', 'indulgent', 'machine', 'translation', 'is', 'a', 'typical', 'test', 'of', 'language', 'analysis', 'and', 'language']\n",
      "53\n",
      "['natural', 'language', 'processing', 'is', 'a', 'stem', 'of', 'artificial', 'intelligence', 'that', 'helps', 'computer', 'understand', 'interpret', 'and', 'influence', 'human', 'language', 'it', 'draws', 'from', 'many', 'discipline', 'counting', 'computer', 'science', 'and', 'computational', 'linguistic', 'in', 'its', 'chase', 'to', 'fill', 'the', 'gap', 'between', 'human', 'communication', 'and', 'computer', 'indulgent', 'machine', 'translation', 'is', 'a', 'typical', 'test', 'of', 'language', 'analysis', 'and', 'language', 'production']\n",
      "54\n",
      "['natural', 'language', 'processing', 'is', 'a', 'stem', 'of', 'artificial', 'intelligence', 'that', 'helps', 'computer', 'understand', 'interpret', 'and', 'influence', 'human', 'language', 'it', 'draws', 'from', 'many', 'discipline', 'counting', 'computer', 'science', 'and', 'computational', 'linguistic', 'in', 'its', 'chase', 'to', 'fill', 'the', 'gap', 'between', 'human', 'communication', 'and', 'computer', 'indulgent', 'machine', 'translation', 'is', 'a', 'typical', 'test', 'of', 'language', 'analysis', 'and', 'language', 'production', 'in']\n",
      "55\n",
      "['natural', 'language', 'processing', 'is', 'a', 'stem', 'of', 'artificial', 'intelligence', 'that', 'helps', 'computer', 'understand', 'interpret', 'and', 'influence', 'human', 'language', 'it', 'draws', 'from', 'many', 'discipline', 'counting', 'computer', 'science', 'and', 'computational', 'linguistic', 'in', 'its', 'chase', 'to', 'fill', 'the', 'gap', 'between', 'human', 'communication', 'and', 'computer', 'indulgent', 'machine', 'translation', 'is', 'a', 'typical', 'test', 'of', 'language', 'analysis', 'and', 'language', 'production', 'in', 'this']\n",
      "56\n",
      "['natural', 'language', 'processing', 'is', 'a', 'stem', 'of', 'artificial', 'intelligence', 'that', 'helps', 'computer', 'understand', 'interpret', 'and', 'influence', 'human', 'language', 'it', 'draws', 'from', 'many', 'discipline', 'counting', 'computer', 'science', 'and', 'computational', 'linguistic', 'in', 'its', 'chase', 'to', 'fill', 'the', 'gap', 'between', 'human', 'communication', 'and', 'computer', 'indulgent', 'machine', 'translation', 'is', 'a', 'typical', 'test', 'of', 'language', 'analysis', 'and', 'language', 'production', 'in', 'this', 'we']\n",
      "57\n",
      "['natural', 'language', 'processing', 'is', 'a', 'stem', 'of', 'artificial', 'intelligence', 'that', 'helps', 'computer', 'understand', 'interpret', 'and', 'influence', 'human', 'language', 'it', 'draws', 'from', 'many', 'discipline', 'counting', 'computer', 'science', 'and', 'computational', 'linguistic', 'in', 'its', 'chase', 'to', 'fill', 'the', 'gap', 'between', 'human', 'communication', 'and', 'computer', 'indulgent', 'machine', 'translation', 'is', 'a', 'typical', 'test', 'of', 'language', 'analysis', 'and', 'language', 'production', 'in', 'this', 'we', 'have']\n",
      "58\n",
      "['natural', 'language', 'processing', 'is', 'a', 'stem', 'of', 'artificial', 'intelligence', 'that', 'helps', 'computer', 'understand', 'interpret', 'and', 'influence', 'human', 'language', 'it', 'draws', 'from', 'many', 'discipline', 'counting', 'computer', 'science', 'and', 'computational', 'linguistic', 'in', 'its', 'chase', 'to', 'fill', 'the', 'gap', 'between', 'human', 'communication', 'and', 'computer', 'indulgent', 'machine', 'translation', 'is', 'a', 'typical', 'test', 'of', 'language', 'analysis', 'and', 'language', 'production', 'in', 'this', 'we', 'have', 'to']\n",
      "59\n",
      "['natural', 'language', 'processing', 'is', 'a', 'stem', 'of', 'artificial', 'intelligence', 'that', 'helps', 'computer', 'understand', 'interpret', 'and', 'influence', 'human', 'language', 'it', 'draws', 'from', 'many', 'discipline', 'counting', 'computer', 'science', 'and', 'computational', 'linguistic', 'in', 'its', 'chase', 'to', 'fill', 'the', 'gap', 'between', 'human', 'communication', 'and', 'computer', 'indulgent', 'machine', 'translation', 'is', 'a', 'typical', 'test', 'of', 'language', 'analysis', 'and', 'language', 'production', 'in', 'this', 'we', 'have', 'to', 'use']\n",
      "60\n",
      "['natural', 'language', 'processing', 'is', 'a', 'stem', 'of', 'artificial', 'intelligence', 'that', 'helps', 'computer', 'understand', 'interpret', 'and', 'influence', 'human', 'language', 'it', 'draws', 'from', 'many', 'discipline', 'counting', 'computer', 'science', 'and', 'computational', 'linguistic', 'in', 'its', 'chase', 'to', 'fill', 'the', 'gap', 'between', 'human', 'communication', 'and', 'computer', 'indulgent', 'machine', 'translation', 'is', 'a', 'typical', 'test', 'of', 'language', 'analysis', 'and', 'language', 'production', 'in', 'this', 'we', 'have', 'to', 'use', 'a']\n",
      "61\n",
      "['natural', 'language', 'processing', 'is', 'a', 'stem', 'of', 'artificial', 'intelligence', 'that', 'helps', 'computer', 'understand', 'interpret', 'and', 'influence', 'human', 'language', 'it', 'draws', 'from', 'many', 'discipline', 'counting', 'computer', 'science', 'and', 'computational', 'linguistic', 'in', 'its', 'chase', 'to', 'fill', 'the', 'gap', 'between', 'human', 'communication', 'and', 'computer', 'indulgent', 'machine', 'translation', 'is', 'a', 'typical', 'test', 'of', 'language', 'analysis', 'and', 'language', 'production', 'in', 'this', 'we', 'have', 'to', 'use', 'a', 'similar']\n",
      "62\n",
      "['natural', 'language', 'processing', 'is', 'a', 'stem', 'of', 'artificial', 'intelligence', 'that', 'helps', 'computer', 'understand', 'interpret', 'and', 'influence', 'human', 'language', 'it', 'draws', 'from', 'many', 'discipline', 'counting', 'computer', 'science', 'and', 'computational', 'linguistic', 'in', 'its', 'chase', 'to', 'fill', 'the', 'gap', 'between', 'human', 'communication', 'and', 'computer', 'indulgent', 'machine', 'translation', 'is', 'a', 'typical', 'test', 'of', 'language', 'analysis', 'and', 'language', 'production', 'in', 'this', 'we', 'have', 'to', 'use', 'a', 'similar', 'corpus']\n",
      "63\n",
      "['natural', 'language', 'processing', 'is', 'a', 'stem', 'of', 'artificial', 'intelligence', 'that', 'helps', 'computer', 'understand', 'interpret', 'and', 'influence', 'human', 'language', 'it', 'draws', 'from', 'many', 'discipline', 'counting', 'computer', 'science', 'and', 'computational', 'linguistic', 'in', 'its', 'chase', 'to', 'fill', 'the', 'gap', 'between', 'human', 'communication', 'and', 'computer', 'indulgent', 'machine', 'translation', 'is', 'a', 'typical', 'test', 'of', 'language', 'analysis', 'and', 'language', 'production', 'in', 'this', 'we', 'have', 'to', 'use', 'a', 'similar', 'corpus', 'a']\n",
      "64\n",
      "['natural', 'language', 'processing', 'is', 'a', 'stem', 'of', 'artificial', 'intelligence', 'that', 'helps', 'computer', 'understand', 'interpret', 'and', 'influence', 'human', 'language', 'it', 'draws', 'from', 'many', 'discipline', 'counting', 'computer', 'science', 'and', 'computational', 'linguistic', 'in', 'its', 'chase', 'to', 'fill', 'the', 'gap', 'between', 'human', 'communication', 'and', 'computer', 'indulgent', 'machine', 'translation', 'is', 'a', 'typical', 'test', 'of', 'language', 'analysis', 'and', 'language', 'production', 'in', 'this', 'we', 'have', 'to', 'use', 'a', 'similar', 'corpus', 'a', 'compilation']\n",
      "65\n",
      "['natural', 'language', 'processing', 'is', 'a', 'stem', 'of', 'artificial', 'intelligence', 'that', 'helps', 'computer', 'understand', 'interpret', 'and', 'influence', 'human', 'language', 'it', 'draws', 'from', 'many', 'discipline', 'counting', 'computer', 'science', 'and', 'computational', 'linguistic', 'in', 'its', 'chase', 'to', 'fill', 'the', 'gap', 'between', 'human', 'communication', 'and', 'computer', 'indulgent', 'machine', 'translation', 'is', 'a', 'typical', 'test', 'of', 'language', 'analysis', 'and', 'language', 'production', 'in', 'this', 'we', 'have', 'to', 'use', 'a', 'similar', 'corpus', 'a', 'compilation', 'of']\n",
      "66\n",
      "['natural', 'language', 'processing', 'is', 'a', 'stem', 'of', 'artificial', 'intelligence', 'that', 'helps', 'computer', 'understand', 'interpret', 'and', 'influence', 'human', 'language', 'it', 'draws', 'from', 'many', 'discipline', 'counting', 'computer', 'science', 'and', 'computational', 'linguistic', 'in', 'its', 'chase', 'to', 'fill', 'the', 'gap', 'between', 'human', 'communication', 'and', 'computer', 'indulgent', 'machine', 'translation', 'is', 'a', 'typical', 'test', 'of', 'language', 'analysis', 'and', 'language', 'production', 'in', 'this', 'we', 'have', 'to', 'use', 'a', 'similar', 'corpus', 'a', 'compilation', 'of', 'texts']\n",
      "67\n",
      "['natural', 'language', 'processing', 'is', 'a', 'stem', 'of', 'artificial', 'intelligence', 'that', 'helps', 'computer', 'understand', 'interpret', 'and', 'influence', 'human', 'language', 'it', 'draws', 'from', 'many', 'discipline', 'counting', 'computer', 'science', 'and', 'computational', 'linguistic', 'in', 'its', 'chase', 'to', 'fill', 'the', 'gap', 'between', 'human', 'communication', 'and', 'computer', 'indulgent', 'machine', 'translation', 'is', 'a', 'typical', 'test', 'of', 'language', 'analysis', 'and', 'language', 'production', 'in', 'this', 'we', 'have', 'to', 'use', 'a', 'similar', 'corpus', 'a', 'compilation', 'of', 'texts', 'each']\n",
      "68\n",
      "['natural', 'language', 'processing', 'is', 'a', 'stem', 'of', 'artificial', 'intelligence', 'that', 'helps', 'computer', 'understand', 'interpret', 'and', 'influence', 'human', 'language', 'it', 'draws', 'from', 'many', 'discipline', 'counting', 'computer', 'science', 'and', 'computational', 'linguistic', 'in', 'its', 'chase', 'to', 'fill', 'the', 'gap', 'between', 'human', 'communication', 'and', 'computer', 'indulgent', 'machine', 'translation', 'is', 'a', 'typical', 'test', 'of', 'language', 'analysis', 'and', 'language', 'production', 'in', 'this', 'we', 'have', 'to', 'use', 'a', 'similar', 'corpus', 'a', 'compilation', 'of', 'texts', 'each', 'of']\n",
      "69\n",
      "['natural', 'language', 'processing', 'is', 'a', 'stem', 'of', 'artificial', 'intelligence', 'that', 'helps', 'computer', 'understand', 'interpret', 'and', 'influence', 'human', 'language', 'it', 'draws', 'from', 'many', 'discipline', 'counting', 'computer', 'science', 'and', 'computational', 'linguistic', 'in', 'its', 'chase', 'to', 'fill', 'the', 'gap', 'between', 'human', 'communication', 'and', 'computer', 'indulgent', 'machine', 'translation', 'is', 'a', 'typical', 'test', 'of', 'language', 'analysis', 'and', 'language', 'production', 'in', 'this', 'we', 'have', 'to', 'use', 'a', 'similar', 'corpus', 'a', 'compilation', 'of', 'texts', 'each', 'of', 'which']\n",
      "70\n",
      "['natural', 'language', 'processing', 'is', 'a', 'stem', 'of', 'artificial', 'intelligence', 'that', 'helps', 'computer', 'understand', 'interpret', 'and', 'influence', 'human', 'language', 'it', 'draws', 'from', 'many', 'discipline', 'counting', 'computer', 'science', 'and', 'computational', 'linguistic', 'in', 'its', 'chase', 'to', 'fill', 'the', 'gap', 'between', 'human', 'communication', 'and', 'computer', 'indulgent', 'machine', 'translation', 'is', 'a', 'typical', 'test', 'of', 'language', 'analysis', 'and', 'language', 'production', 'in', 'this', 'we', 'have', 'to', 'use', 'a', 'similar', 'corpus', 'a', 'compilation', 'of', 'texts', 'each', 'of', 'which', 'is']\n",
      "71\n",
      "['natural', 'language', 'processing', 'is', 'a', 'stem', 'of', 'artificial', 'intelligence', 'that', 'helps', 'computer', 'understand', 'interpret', 'and', 'influence', 'human', 'language', 'it', 'draws', 'from', 'many', 'discipline', 'counting', 'computer', 'science', 'and', 'computational', 'linguistic', 'in', 'its', 'chase', 'to', 'fill', 'the', 'gap', 'between', 'human', 'communication', 'and', 'computer', 'indulgent', 'machine', 'translation', 'is', 'a', 'typical', 'test', 'of', 'language', 'analysis', 'and', 'language', 'production', 'in', 'this', 'we', 'have', 'to', 'use', 'a', 'similar', 'corpus', 'a', 'compilation', 'of', 'texts', 'each', 'of', 'which', 'is', 'translated']\n",
      "72\n",
      "['natural', 'language', 'processing', 'is', 'a', 'stem', 'of', 'artificial', 'intelligence', 'that', 'helps', 'computer', 'understand', 'interpret', 'and', 'influence', 'human', 'language', 'it', 'draws', 'from', 'many', 'discipline', 'counting', 'computer', 'science', 'and', 'computational', 'linguistic', 'in', 'its', 'chase', 'to', 'fill', 'the', 'gap', 'between', 'human', 'communication', 'and', 'computer', 'indulgent', 'machine', 'translation', 'is', 'a', 'typical', 'test', 'of', 'language', 'analysis', 'and', 'language', 'production', 'in', 'this', 'we', 'have', 'to', 'use', 'a', 'similar', 'corpus', 'a', 'compilation', 'of', 'texts', 'each', 'of', 'which', 'is', 'translated', 'into']\n",
      "73\n",
      "['natural', 'language', 'processing', 'is', 'a', 'stem', 'of', 'artificial', 'intelligence', 'that', 'helps', 'computer', 'understand', 'interpret', 'and', 'influence', 'human', 'language', 'it', 'draws', 'from', 'many', 'discipline', 'counting', 'computer', 'science', 'and', 'computational', 'linguistic', 'in', 'its', 'chase', 'to', 'fill', 'the', 'gap', 'between', 'human', 'communication', 'and', 'computer', 'indulgent', 'machine', 'translation', 'is', 'a', 'typical', 'test', 'of', 'language', 'analysis', 'and', 'language', 'production', 'in', 'this', 'we', 'have', 'to', 'use', 'a', 'similar', 'corpus', 'a', 'compilation', 'of', 'texts', 'each', 'of', 'which', 'is', 'translated', 'into', 'one']\n",
      "74\n",
      "['natural', 'language', 'processing', 'is', 'a', 'stem', 'of', 'artificial', 'intelligence', 'that', 'helps', 'computer', 'understand', 'interpret', 'and', 'influence', 'human', 'language', 'it', 'draws', 'from', 'many', 'discipline', 'counting', 'computer', 'science', 'and', 'computational', 'linguistic', 'in', 'its', 'chase', 'to', 'fill', 'the', 'gap', 'between', 'human', 'communication', 'and', 'computer', 'indulgent', 'machine', 'translation', 'is', 'a', 'typical', 'test', 'of', 'language', 'analysis', 'and', 'language', 'production', 'in', 'this', 'we', 'have', 'to', 'use', 'a', 'similar', 'corpus', 'a', 'compilation', 'of', 'texts', 'each', 'of', 'which', 'is', 'translated', 'into', 'one', 'or']\n",
      "75\n",
      "['natural', 'language', 'processing', 'is', 'a', 'stem', 'of', 'artificial', 'intelligence', 'that', 'helps', 'computer', 'understand', 'interpret', 'and', 'influence', 'human', 'language', 'it', 'draws', 'from', 'many', 'discipline', 'counting', 'computer', 'science', 'and', 'computational', 'linguistic', 'in', 'its', 'chase', 'to', 'fill', 'the', 'gap', 'between', 'human', 'communication', 'and', 'computer', 'indulgent', 'machine', 'translation', 'is', 'a', 'typical', 'test', 'of', 'language', 'analysis', 'and', 'language', 'production', 'in', 'this', 'we', 'have', 'to', 'use', 'a', 'similar', 'corpus', 'a', 'compilation', 'of', 'texts', 'each', 'of', 'which', 'is', 'translated', 'into', 'one', 'or', 'more']\n",
      "76\n",
      "['natural', 'language', 'processing', 'is', 'a', 'stem', 'of', 'artificial', 'intelligence', 'that', 'helps', 'computer', 'understand', 'interpret', 'and', 'influence', 'human', 'language', 'it', 'draws', 'from', 'many', 'discipline', 'counting', 'computer', 'science', 'and', 'computational', 'linguistic', 'in', 'its', 'chase', 'to', 'fill', 'the', 'gap', 'between', 'human', 'communication', 'and', 'computer', 'indulgent', 'machine', 'translation', 'is', 'a', 'typical', 'test', 'of', 'language', 'analysis', 'and', 'language', 'production', 'in', 'this', 'we', 'have', 'to', 'use', 'a', 'similar', 'corpus', 'a', 'compilation', 'of', 'texts', 'each', 'of', 'which', 'is', 'translated', 'into', 'one', 'or', 'more', 'other']\n",
      "77\n",
      "['natural', 'language', 'processing', 'is', 'a', 'stem', 'of', 'artificial', 'intelligence', 'that', 'helps', 'computer', 'understand', 'interpret', 'and', 'influence', 'human', 'language', 'it', 'draws', 'from', 'many', 'discipline', 'counting', 'computer', 'science', 'and', 'computational', 'linguistic', 'in', 'its', 'chase', 'to', 'fill', 'the', 'gap', 'between', 'human', 'communication', 'and', 'computer', 'indulgent', 'machine', 'translation', 'is', 'a', 'typical', 'test', 'of', 'language', 'analysis', 'and', 'language', 'production', 'in', 'this', 'we', 'have', 'to', 'use', 'a', 'similar', 'corpus', 'a', 'compilation', 'of', 'texts', 'each', 'of', 'which', 'is', 'translated', 'into', 'one', 'or', 'more', 'other', 'languages']\n",
      "78\n",
      "['natural', 'language', 'processing', 'is', 'a', 'stem', 'of', 'artificial', 'intelligence', 'that', 'helps', 'computer', 'understand', 'interpret', 'and', 'influence', 'human', 'language', 'it', 'draws', 'from', 'many', 'discipline', 'counting', 'computer', 'science', 'and', 'computational', 'linguistic', 'in', 'its', 'chase', 'to', 'fill', 'the', 'gap', 'between', 'human', 'communication', 'and', 'computer', 'indulgent', 'machine', 'translation', 'is', 'a', 'typical', 'test', 'of', 'language', 'analysis', 'and', 'language', 'production', 'in', 'this', 'we', 'have', 'to', 'use', 'a', 'similar', 'corpus', 'a', 'compilation', 'of', 'texts', 'each', 'of', 'which', 'is', 'translated', 'into', 'one', 'or', 'more', 'other', 'languages', 'that']\n",
      "79\n",
      "['natural', 'language', 'processing', 'is', 'a', 'stem', 'of', 'artificial', 'intelligence', 'that', 'helps', 'computer', 'understand', 'interpret', 'and', 'influence', 'human', 'language', 'it', 'draws', 'from', 'many', 'discipline', 'counting', 'computer', 'science', 'and', 'computational', 'linguistic', 'in', 'its', 'chase', 'to', 'fill', 'the', 'gap', 'between', 'human', 'communication', 'and', 'computer', 'indulgent', 'machine', 'translation', 'is', 'a', 'typical', 'test', 'of', 'language', 'analysis', 'and', 'language', 'production', 'in', 'this', 'we', 'have', 'to', 'use', 'a', 'similar', 'corpus', 'a', 'compilation', 'of', 'texts', 'each', 'of', 'which', 'is', 'translated', 'into', 'one', 'or', 'more', 'other', 'languages', 'that', 'unique']\n",
      "80\n",
      "['natural', 'language', 'processing', 'is', 'a', 'stem', 'of', 'artificial', 'intelligence', 'that', 'helps', 'computer', 'understand', 'interpret', 'and', 'influence', 'human', 'language', 'it', 'draws', 'from', 'many', 'discipline', 'counting', 'computer', 'science', 'and', 'computational', 'linguistic', 'in', 'its', 'chase', 'to', 'fill', 'the', 'gap', 'between', 'human', 'communication', 'and', 'computer', 'indulgent', 'machine', 'translation', 'is', 'a', 'typical', 'test', 'of', 'language', 'analysis', 'and', 'language', 'production', 'in', 'this', 'we', 'have', 'to', 'use', 'a', 'similar', 'corpus', 'a', 'compilation', 'of', 'texts', 'each', 'of', 'which', 'is', 'translated', 'into', 'one', 'or', 'more', 'other', 'languages', 'that', 'unique', 'the']\n",
      "81\n",
      "['natural', 'language', 'processing', 'is', 'a', 'stem', 'of', 'artificial', 'intelligence', 'that', 'helps', 'computer', 'understand', 'interpret', 'and', 'influence', 'human', 'language', 'it', 'draws', 'from', 'many', 'discipline', 'counting', 'computer', 'science', 'and', 'computational', 'linguistic', 'in', 'its', 'chase', 'to', 'fill', 'the', 'gap', 'between', 'human', 'communication', 'and', 'computer', 'indulgent', 'machine', 'translation', 'is', 'a', 'typical', 'test', 'of', 'language', 'analysis', 'and', 'language', 'production', 'in', 'this', 'we', 'have', 'to', 'use', 'a', 'similar', 'corpus', 'a', 'compilation', 'of', 'texts', 'each', 'of', 'which', 'is', 'translated', 'into', 'one', 'or', 'more', 'other', 'languages', 'that', 'unique', 'the', 'approach']\n",
      "82\n",
      "['natural', 'language', 'processing', 'is', 'a', 'stem', 'of', 'artificial', 'intelligence', 'that', 'helps', 'computer', 'understand', 'interpret', 'and', 'influence', 'human', 'language', 'it', 'draws', 'from', 'many', 'discipline', 'counting', 'computer', 'science', 'and', 'computational', 'linguistic', 'in', 'its', 'chase', 'to', 'fill', 'the', 'gap', 'between', 'human', 'communication', 'and', 'computer', 'indulgent', 'machine', 'translation', 'is', 'a', 'typical', 'test', 'of', 'language', 'analysis', 'and', 'language', 'production', 'in', 'this', 'we', 'have', 'to', 'use', 'a', 'similar', 'corpus', 'a', 'compilation', 'of', 'texts', 'each', 'of', 'which', 'is', 'translated', 'into', 'one', 'or', 'more', 'other', 'languages', 'that', 'unique', 'the', 'approach', 'skips']\n",
      "83\n",
      "['natural', 'language', 'processing', 'is', 'a', 'stem', 'of', 'artificial', 'intelligence', 'that', 'helps', 'computer', 'understand', 'interpret', 'and', 'influence', 'human', 'language', 'it', 'draws', 'from', 'many', 'discipline', 'counting', 'computer', 'science', 'and', 'computational', 'linguistic', 'in', 'its', 'chase', 'to', 'fill', 'the', 'gap', 'between', 'human', 'communication', 'and', 'computer', 'indulgent', 'machine', 'translation', 'is', 'a', 'typical', 'test', 'of', 'language', 'analysis', 'and', 'language', 'production', 'in', 'this', 'we', 'have', 'to', 'use', 'a', 'similar', 'corpus', 'a', 'compilation', 'of', 'texts', 'each', 'of', 'which', 'is', 'translated', 'into', 'one', 'or', 'more', 'other', 'languages', 'that', 'unique', 'the', 'approach', 'skips', 'hundreds']\n",
      "84\n",
      "['natural', 'language', 'processing', 'is', 'a', 'stem', 'of', 'artificial', 'intelligence', 'that', 'helps', 'computer', 'understand', 'interpret', 'and', 'influence', 'human', 'language', 'it', 'draws', 'from', 'many', 'discipline', 'counting', 'computer', 'science', 'and', 'computational', 'linguistic', 'in', 'its', 'chase', 'to', 'fill', 'the', 'gap', 'between', 'human', 'communication', 'and', 'computer', 'indulgent', 'machine', 'translation', 'is', 'a', 'typical', 'test', 'of', 'language', 'analysis', 'and', 'language', 'production', 'in', 'this', 'we', 'have', 'to', 'use', 'a', 'similar', 'corpus', 'a', 'compilation', 'of', 'texts', 'each', 'of', 'which', 'is', 'translated', 'into', 'one', 'or', 'more', 'other', 'languages', 'that', 'unique', 'the', 'approach', 'skips', 'hundreds', 'of']\n",
      "85\n",
      "['natural', 'language', 'processing', 'is', 'a', 'stem', 'of', 'artificial', 'intelligence', 'that', 'helps', 'computer', 'understand', 'interpret', 'and', 'influence', 'human', 'language', 'it', 'draws', 'from', 'many', 'discipline', 'counting', 'computer', 'science', 'and', 'computational', 'linguistic', 'in', 'its', 'chase', 'to', 'fill', 'the', 'gap', 'between', 'human', 'communication', 'and', 'computer', 'indulgent', 'machine', 'translation', 'is', 'a', 'typical', 'test', 'of', 'language', 'analysis', 'and', 'language', 'production', 'in', 'this', 'we', 'have', 'to', 'use', 'a', 'similar', 'corpus', 'a', 'compilation', 'of', 'texts', 'each', 'of', 'which', 'is', 'translated', 'into', 'one', 'or', 'more', 'other', 'languages', 'that', 'unique', 'the', 'approach', 'skips', 'hundreds', 'of', 'significant']\n",
      "86\n",
      "['natural', 'language', 'processing', 'is', 'a', 'stem', 'of', 'artificial', 'intelligence', 'that', 'helps', 'computer', 'understand', 'interpret', 'and', 'influence', 'human', 'language', 'it', 'draws', 'from', 'many', 'discipline', 'counting', 'computer', 'science', 'and', 'computational', 'linguistic', 'in', 'its', 'chase', 'to', 'fill', 'the', 'gap', 'between', 'human', 'communication', 'and', 'computer', 'indulgent', 'machine', 'translation', 'is', 'a', 'typical', 'test', 'of', 'language', 'analysis', 'and', 'language', 'production', 'in', 'this', 'we', 'have', 'to', 'use', 'a', 'similar', 'corpus', 'a', 'compilation', 'of', 'texts', 'each', 'of', 'which', 'is', 'translated', 'into', 'one', 'or', 'more', 'other', 'languages', 'that', 'unique', 'the', 'approach', 'skips', 'hundreds', 'of', 'significant', 'details']\n",
      "87\n",
      "['natural', 'language', 'processing', 'is', 'a', 'stem', 'of', 'artificial', 'intelligence', 'that', 'helps', 'computer', 'understand', 'interpret', 'and', 'influence', 'human', 'language', 'it', 'draws', 'from', 'many', 'discipline', 'counting', 'computer', 'science', 'and', 'computational', 'linguistic', 'in', 'its', 'chase', 'to', 'fill', 'the', 'gap', 'between', 'human', 'communication', 'and', 'computer', 'indulgent', 'machine', 'translation', 'is', 'a', 'typical', 'test', 'of', 'language', 'analysis', 'and', 'language', 'production', 'in', 'this', 'we', 'have', 'to', 'use', 'a', 'similar', 'corpus', 'a', 'compilation', 'of', 'texts', 'each', 'of', 'which', 'is', 'translated', 'into', 'one', 'or', 'more', 'other', 'languages', 'that', 'unique', 'the', 'approach', 'skips', 'hundreds', 'of', 'significant', 'details', 'requires']\n",
      "88\n",
      "['natural', 'language', 'processing', 'is', 'a', 'stem', 'of', 'artificial', 'intelligence', 'that', 'helps', 'computer', 'understand', 'interpret', 'and', 'influence', 'human', 'language', 'it', 'draws', 'from', 'many', 'discipline', 'counting', 'computer', 'science', 'and', 'computational', 'linguistic', 'in', 'its', 'chase', 'to', 'fill', 'the', 'gap', 'between', 'human', 'communication', 'and', 'computer', 'indulgent', 'machine', 'translation', 'is', 'a', 'typical', 'test', 'of', 'language', 'analysis', 'and', 'language', 'production', 'in', 'this', 'we', 'have', 'to', 'use', 'a', 'similar', 'corpus', 'a', 'compilation', 'of', 'texts', 'each', 'of', 'which', 'is', 'translated', 'into', 'one', 'or', 'more', 'other', 'languages', 'that', 'unique', 'the', 'approach', 'skips', 'hundreds', 'of', 'significant', 'details', 'requires', 'a']\n",
      "89\n",
      "['natural', 'language', 'processing', 'is', 'a', 'stem', 'of', 'artificial', 'intelligence', 'that', 'helps', 'computer', 'understand', 'interpret', 'and', 'influence', 'human', 'language', 'it', 'draws', 'from', 'many', 'discipline', 'counting', 'computer', 'science', 'and', 'computational', 'linguistic', 'in', 'its', 'chase', 'to', 'fill', 'the', 'gap', 'between', 'human', 'communication', 'and', 'computer', 'indulgent', 'machine', 'translation', 'is', 'a', 'typical', 'test', 'of', 'language', 'analysis', 'and', 'language', 'production', 'in', 'this', 'we', 'have', 'to', 'use', 'a', 'similar', 'corpus', 'a', 'compilation', 'of', 'texts', 'each', 'of', 'which', 'is', 'translated', 'into', 'one', 'or', 'more', 'other', 'languages', 'that', 'unique', 'the', 'approach', 'skips', 'hundreds', 'of', 'significant', 'details', 'requires', 'a', 'lot']\n",
      "90\n",
      "['natural', 'language', 'processing', 'is', 'a', 'stem', 'of', 'artificial', 'intelligence', 'that', 'helps', 'computer', 'understand', 'interpret', 'and', 'influence', 'human', 'language', 'it', 'draws', 'from', 'many', 'discipline', 'counting', 'computer', 'science', 'and', 'computational', 'linguistic', 'in', 'its', 'chase', 'to', 'fill', 'the', 'gap', 'between', 'human', 'communication', 'and', 'computer', 'indulgent', 'machine', 'translation', 'is', 'a', 'typical', 'test', 'of', 'language', 'analysis', 'and', 'language', 'production', 'in', 'this', 'we', 'have', 'to', 'use', 'a', 'similar', 'corpus', 'a', 'compilation', 'of', 'texts', 'each', 'of', 'which', 'is', 'translated', 'into', 'one', 'or', 'more', 'other', 'languages', 'that', 'unique', 'the', 'approach', 'skips', 'hundreds', 'of', 'significant', 'details', 'requires', 'a', 'lot', 'of']\n",
      "91\n",
      "['natural', 'language', 'processing', 'is', 'a', 'stem', 'of', 'artificial', 'intelligence', 'that', 'helps', 'computer', 'understand', 'interpret', 'and', 'influence', 'human', 'language', 'it', 'draws', 'from', 'many', 'discipline', 'counting', 'computer', 'science', 'and', 'computational', 'linguistic', 'in', 'its', 'chase', 'to', 'fill', 'the', 'gap', 'between', 'human', 'communication', 'and', 'computer', 'indulgent', 'machine', 'translation', 'is', 'a', 'typical', 'test', 'of', 'language', 'analysis', 'and', 'language', 'production', 'in', 'this', 'we', 'have', 'to', 'use', 'a', 'similar', 'corpus', 'a', 'compilation', 'of', 'texts', 'each', 'of', 'which', 'is', 'translated', 'into', 'one', 'or', 'more', 'other', 'languages', 'that', 'unique', 'the', 'approach', 'skips', 'hundreds', 'of', 'significant', 'details', 'requires', 'a', 'lot', 'of', 'characteristics']\n",
      "92\n",
      "['natural', 'language', 'processing', 'is', 'a', 'stem', 'of', 'artificial', 'intelligence', 'that', 'helps', 'computer', 'understand', 'interpret', 'and', 'influence', 'human', 'language', 'it', 'draws', 'from', 'many', 'discipline', 'counting', 'computer', 'science', 'and', 'computational', 'linguistic', 'in', 'its', 'chase', 'to', 'fill', 'the', 'gap', 'between', 'human', 'communication', 'and', 'computer', 'indulgent', 'machine', 'translation', 'is', 'a', 'typical', 'test', 'of', 'language', 'analysis', 'and', 'language', 'production', 'in', 'this', 'we', 'have', 'to', 'use', 'a', 'similar', 'corpus', 'a', 'compilation', 'of', 'texts', 'each', 'of', 'which', 'is', 'translated', 'into', 'one', 'or', 'more', 'other', 'languages', 'that', 'unique', 'the', 'approach', 'skips', 'hundreds', 'of', 'significant', 'details', 'requires', 'a', 'lot', 'of', 'characteristics', 'human']\n",
      "93\n",
      "['natural', 'language', 'processing', 'is', 'a', 'stem', 'of', 'artificial', 'intelligence', 'that', 'helps', 'computer', 'understand', 'interpret', 'and', 'influence', 'human', 'language', 'it', 'draws', 'from', 'many', 'discipline', 'counting', 'computer', 'science', 'and', 'computational', 'linguistic', 'in', 'its', 'chase', 'to', 'fill', 'the', 'gap', 'between', 'human', 'communication', 'and', 'computer', 'indulgent', 'machine', 'translation', 'is', 'a', 'typical', 'test', 'of', 'language', 'analysis', 'and', 'language', 'production', 'in', 'this', 'we', 'have', 'to', 'use', 'a', 'similar', 'corpus', 'a', 'compilation', 'of', 'texts', 'each', 'of', 'which', 'is', 'translated', 'into', 'one', 'or', 'more', 'other', 'languages', 'that', 'unique', 'the', 'approach', 'skips', 'hundreds', 'of', 'significant', 'details', 'requires', 'a', 'lot', 'of', 'characteristics', 'human', 'engineering']\n",
      "94\n",
      "['natural', 'language', 'processing', 'is', 'a', 'stem', 'of', 'artificial', 'intelligence', 'that', 'helps', 'computer', 'understand', 'interpret', 'and', 'influence', 'human', 'language', 'it', 'draws', 'from', 'many', 'discipline', 'counting', 'computer', 'science', 'and', 'computational', 'linguistic', 'in', 'its', 'chase', 'to', 'fill', 'the', 'gap', 'between', 'human', 'communication', 'and', 'computer', 'indulgent', 'machine', 'translation', 'is', 'a', 'typical', 'test', 'of', 'language', 'analysis', 'and', 'language', 'production', 'in', 'this', 'we', 'have', 'to', 'use', 'a', 'similar', 'corpus', 'a', 'compilation', 'of', 'texts', 'each', 'of', 'which', 'is', 'translated', 'into', 'one', 'or', 'more', 'other', 'languages', 'that', 'unique', 'the', 'approach', 'skips', 'hundreds', 'of', 'significant', 'details', 'requires', 'a', 'lot', 'of', 'characteristics', 'human', 'engineering', 'consist']\n",
      "95\n",
      "['natural', 'language', 'processing', 'is', 'a', 'stem', 'of', 'artificial', 'intelligence', 'that', 'helps', 'computer', 'understand', 'interpret', 'and', 'influence', 'human', 'language', 'it', 'draws', 'from', 'many', 'discipline', 'counting', 'computer', 'science', 'and', 'computational', 'linguistic', 'in', 'its', 'chase', 'to', 'fill', 'the', 'gap', 'between', 'human', 'communication', 'and', 'computer', 'indulgent', 'machine', 'translation', 'is', 'a', 'typical', 'test', 'of', 'language', 'analysis', 'and', 'language', 'production', 'in', 'this', 'we', 'have', 'to', 'use', 'a', 'similar', 'corpus', 'a', 'compilation', 'of', 'texts', 'each', 'of', 'which', 'is', 'translated', 'into', 'one', 'or', 'more', 'other', 'languages', 'that', 'unique', 'the', 'approach', 'skips', 'hundreds', 'of', 'significant', 'details', 'requires', 'a', 'lot', 'of', 'characteristics', 'human', 'engineering', 'consist', 'of']\n",
      "96\n",
      "['natural', 'language', 'processing', 'is', 'a', 'stem', 'of', 'artificial', 'intelligence', 'that', 'helps', 'computer', 'understand', 'interpret', 'and', 'influence', 'human', 'language', 'it', 'draws', 'from', 'many', 'discipline', 'counting', 'computer', 'science', 'and', 'computational', 'linguistic', 'in', 'its', 'chase', 'to', 'fill', 'the', 'gap', 'between', 'human', 'communication', 'and', 'computer', 'indulgent', 'machine', 'translation', 'is', 'a', 'typical', 'test', 'of', 'language', 'analysis', 'and', 'language', 'production', 'in', 'this', 'we', 'have', 'to', 'use', 'a', 'similar', 'corpus', 'a', 'compilation', 'of', 'texts', 'each', 'of', 'which', 'is', 'translated', 'into', 'one', 'or', 'more', 'other', 'languages', 'that', 'unique', 'the', 'approach', 'skips', 'hundreds', 'of', 'significant', 'details', 'requires', 'a', 'lot', 'of', 'characteristics', 'human', 'engineering', 'consist', 'of', 'many']\n",
      "97\n",
      "['natural', 'language', 'processing', 'is', 'a', 'stem', 'of', 'artificial', 'intelligence', 'that', 'helps', 'computer', 'understand', 'interpret', 'and', 'influence', 'human', 'language', 'it', 'draws', 'from', 'many', 'discipline', 'counting', 'computer', 'science', 'and', 'computational', 'linguistic', 'in', 'its', 'chase', 'to', 'fill', 'the', 'gap', 'between', 'human', 'communication', 'and', 'computer', 'indulgent', 'machine', 'translation', 'is', 'a', 'typical', 'test', 'of', 'language', 'analysis', 'and', 'language', 'production', 'in', 'this', 'we', 'have', 'to', 'use', 'a', 'similar', 'corpus', 'a', 'compilation', 'of', 'texts', 'each', 'of', 'which', 'is', 'translated', 'into', 'one', 'or', 'more', 'other', 'languages', 'that', 'unique', 'the', 'approach', 'skips', 'hundreds', 'of', 'significant', 'details', 'requires', 'a', 'lot', 'of', 'characteristics', 'human', 'engineering', 'consist', 'of', 'many', 'diverse']\n",
      "98\n",
      "['natural', 'language', 'processing', 'is', 'a', 'stem', 'of', 'artificial', 'intelligence', 'that', 'helps', 'computer', 'understand', 'interpret', 'and', 'influence', 'human', 'language', 'it', 'draws', 'from', 'many', 'discipline', 'counting', 'computer', 'science', 'and', 'computational', 'linguistic', 'in', 'its', 'chase', 'to', 'fill', 'the', 'gap', 'between', 'human', 'communication', 'and', 'computer', 'indulgent', 'machine', 'translation', 'is', 'a', 'typical', 'test', 'of', 'language', 'analysis', 'and', 'language', 'production', 'in', 'this', 'we', 'have', 'to', 'use', 'a', 'similar', 'corpus', 'a', 'compilation', 'of', 'texts', 'each', 'of', 'which', 'is', 'translated', 'into', 'one', 'or', 'more', 'other', 'languages', 'that', 'unique', 'the', 'approach', 'skips', 'hundreds', 'of', 'significant', 'details', 'requires', 'a', 'lot', 'of', 'characteristics', 'human', 'engineering', 'consist', 'of', 'many', 'diverse', 'and']\n",
      "99\n",
      "['natural', 'language', 'processing', 'is', 'a', 'stem', 'of', 'artificial', 'intelligence', 'that', 'helps', 'computer', 'understand', 'interpret', 'and', 'influence', 'human', 'language', 'it', 'draws', 'from', 'many', 'discipline', 'counting', 'computer', 'science', 'and', 'computational', 'linguistic', 'in', 'its', 'chase', 'to', 'fill', 'the', 'gap', 'between', 'human', 'communication', 'and', 'computer', 'indulgent', 'machine', 'translation', 'is', 'a', 'typical', 'test', 'of', 'language', 'analysis', 'and', 'language', 'production', 'in', 'this', 'we', 'have', 'to', 'use', 'a', 'similar', 'corpus', 'a', 'compilation', 'of', 'texts', 'each', 'of', 'which', 'is', 'translated', 'into', 'one', 'or', 'more', 'other', 'languages', 'that', 'unique', 'the', 'approach', 'skips', 'hundreds', 'of', 'significant', 'details', 'requires', 'a', 'lot', 'of', 'characteristics', 'human', 'engineering', 'consist', 'of', 'many', 'diverse', 'and', 'machine']\n",
      "100\n",
      "['natural', 'language', 'processing', 'is', 'a', 'stem', 'of', 'artificial', 'intelligence', 'that', 'helps', 'computer', 'understand', 'interpret', 'and', 'influence', 'human', 'language', 'it', 'draws', 'from', 'many', 'discipline', 'counting', 'computer', 'science', 'and', 'computational', 'linguistic', 'in', 'its', 'chase', 'to', 'fill', 'the', 'gap', 'between', 'human', 'communication', 'and', 'computer', 'indulgent', 'machine', 'translation', 'is', 'a', 'typical', 'test', 'of', 'language', 'analysis', 'and', 'language', 'production', 'in', 'this', 'we', 'have', 'to', 'use', 'a', 'similar', 'corpus', 'a', 'compilation', 'of', 'texts', 'each', 'of', 'which', 'is', 'translated', 'into', 'one', 'or', 'more', 'other', 'languages', 'that', 'unique', 'the', 'approach', 'skips', 'hundreds', 'of', 'significant', 'details', 'requires', 'a', 'lot', 'of', 'characteristics', 'human', 'engineering', 'consist', 'of', 'many', 'diverse', 'and', 'machine', 'learning']\n",
      "101\n",
      "['natural', 'language', 'processing', 'is', 'a', 'stem', 'of', 'artificial', 'intelligence', 'that', 'helps', 'computer', 'understand', 'interpret', 'and', 'influence', 'human', 'language', 'it', 'draws', 'from', 'many', 'discipline', 'counting', 'computer', 'science', 'and', 'computational', 'linguistic', 'in', 'its', 'chase', 'to', 'fill', 'the', 'gap', 'between', 'human', 'communication', 'and', 'computer', 'indulgent', 'machine', 'translation', 'is', 'a', 'typical', 'test', 'of', 'language', 'analysis', 'and', 'language', 'production', 'in', 'this', 'we', 'have', 'to', 'use', 'a', 'similar', 'corpus', 'a', 'compilation', 'of', 'texts', 'each', 'of', 'which', 'is', 'translated', 'into', 'one', 'or', 'more', 'other', 'languages', 'that', 'unique', 'the', 'approach', 'skips', 'hundreds', 'of', 'significant', 'details', 'requires', 'a', 'lot', 'of', 'characteristics', 'human', 'engineering', 'consist', 'of', 'many', 'diverse', 'and', 'machine', 'learning', 'problem']\n",
      "102\n",
      "['natural', 'language', 'processing', 'is', 'a', 'stem', 'of', 'artificial', 'intelligence', 'that', 'helps', 'computer', 'understand', 'interpret', 'and', 'influence', 'human', 'language', 'it', 'draws', 'from', 'many', 'discipline', 'counting', 'computer', 'science', 'and', 'computational', 'linguistic', 'in', 'its', 'chase', 'to', 'fill', 'the', 'gap', 'between', 'human', 'communication', 'and', 'computer', 'indulgent', 'machine', 'translation', 'is', 'a', 'typical', 'test', 'of', 'language', 'analysis', 'and', 'language', 'production', 'in', 'this', 'we', 'have', 'to', 'use', 'a', 'similar', 'corpus', 'a', 'compilation', 'of', 'texts', 'each', 'of', 'which', 'is', 'translated', 'into', 'one', 'or', 'more', 'other', 'languages', 'that', 'unique', 'the', 'approach', 'skips', 'hundreds', 'of', 'significant', 'details', 'requires', 'a', 'lot', 'of', 'characteristics', 'human', 'engineering', 'consist', 'of', 'many', 'diverse', 'and', 'machine', 'learning', 'problem', 'and']\n",
      "103\n",
      "['natural', 'language', 'processing', 'is', 'a', 'stem', 'of', 'artificial', 'intelligence', 'that', 'helps', 'computer', 'understand', 'interpret', 'and', 'influence', 'human', 'language', 'it', 'draws', 'from', 'many', 'discipline', 'counting', 'computer', 'science', 'and', 'computational', 'linguistic', 'in', 'its', 'chase', 'to', 'fill', 'the', 'gap', 'between', 'human', 'communication', 'and', 'computer', 'indulgent', 'machine', 'translation', 'is', 'a', 'typical', 'test', 'of', 'language', 'analysis', 'and', 'language', 'production', 'in', 'this', 'we', 'have', 'to', 'use', 'a', 'similar', 'corpus', 'a', 'compilation', 'of', 'texts', 'each', 'of', 'which', 'is', 'translated', 'into', 'one', 'or', 'more', 'other', 'languages', 'that', 'unique', 'the', 'approach', 'skips', 'hundreds', 'of', 'significant', 'details', 'requires', 'a', 'lot', 'of', 'characteristics', 'human', 'engineering', 'consist', 'of', 'many', 'diverse', 'and', 'machine', 'learning', 'problem', 'and', 'in']\n",
      "104\n",
      "['natural', 'language', 'processing', 'is', 'a', 'stem', 'of', 'artificial', 'intelligence', 'that', 'helps', 'computer', 'understand', 'interpret', 'and', 'influence', 'human', 'language', 'it', 'draws', 'from', 'many', 'discipline', 'counting', 'computer', 'science', 'and', 'computational', 'linguistic', 'in', 'its', 'chase', 'to', 'fill', 'the', 'gap', 'between', 'human', 'communication', 'and', 'computer', 'indulgent', 'machine', 'translation', 'is', 'a', 'typical', 'test', 'of', 'language', 'analysis', 'and', 'language', 'production', 'in', 'this', 'we', 'have', 'to', 'use', 'a', 'similar', 'corpus', 'a', 'compilation', 'of', 'texts', 'each', 'of', 'which', 'is', 'translated', 'into', 'one', 'or', 'more', 'other', 'languages', 'that', 'unique', 'the', 'approach', 'skips', 'hundreds', 'of', 'significant', 'details', 'requires', 'a', 'lot', 'of', 'characteristics', 'human', 'engineering', 'consist', 'of', 'many', 'diverse', 'and', 'machine', 'learning', 'problem', 'and', 'in', 'general']\n",
      "105\n",
      "['natural', 'language', 'processing', 'is', 'a', 'stem', 'of', 'artificial', 'intelligence', 'that', 'helps', 'computer', 'understand', 'interpret', 'and', 'influence', 'human', 'language', 'it', 'draws', 'from', 'many', 'discipline', 'counting', 'computer', 'science', 'and', 'computational', 'linguistic', 'in', 'its', 'chase', 'to', 'fill', 'the', 'gap', 'between', 'human', 'communication', 'and', 'computer', 'indulgent', 'machine', 'translation', 'is', 'a', 'typical', 'test', 'of', 'language', 'analysis', 'and', 'language', 'production', 'in', 'this', 'we', 'have', 'to', 'use', 'a', 'similar', 'corpus', 'a', 'compilation', 'of', 'texts', 'each', 'of', 'which', 'is', 'translated', 'into', 'one', 'or', 'more', 'other', 'languages', 'that', 'unique', 'the', 'approach', 'skips', 'hundreds', 'of', 'significant', 'details', 'requires', 'a', 'lot', 'of', 'characteristics', 'human', 'engineering', 'consist', 'of', 'many', 'diverse', 'and', 'machine', 'learning', 'problem', 'and', 'in', 'general', 'is']\n",
      "106\n",
      "['natural', 'language', 'processing', 'is', 'a', 'stem', 'of', 'artificial', 'intelligence', 'that', 'helps', 'computer', 'understand', 'interpret', 'and', 'influence', 'human', 'language', 'it', 'draws', 'from', 'many', 'discipline', 'counting', 'computer', 'science', 'and', 'computational', 'linguistic', 'in', 'its', 'chase', 'to', 'fill', 'the', 'gap', 'between', 'human', 'communication', 'and', 'computer', 'indulgent', 'machine', 'translation', 'is', 'a', 'typical', 'test', 'of', 'language', 'analysis', 'and', 'language', 'production', 'in', 'this', 'we', 'have', 'to', 'use', 'a', 'similar', 'corpus', 'a', 'compilation', 'of', 'texts', 'each', 'of', 'which', 'is', 'translated', 'into', 'one', 'or', 'more', 'other', 'languages', 'that', 'unique', 'the', 'approach', 'skips', 'hundreds', 'of', 'significant', 'details', 'requires', 'a', 'lot', 'of', 'characteristics', 'human', 'engineering', 'consist', 'of', 'many', 'diverse', 'and', 'machine', 'learning', 'problem', 'and', 'in', 'general', 'is', 'a']\n",
      "107\n",
      "['natural', 'language', 'processing', 'is', 'a', 'stem', 'of', 'artificial', 'intelligence', 'that', 'helps', 'computer', 'understand', 'interpret', 'and', 'influence', 'human', 'language', 'it', 'draws', 'from', 'many', 'discipline', 'counting', 'computer', 'science', 'and', 'computational', 'linguistic', 'in', 'its', 'chase', 'to', 'fill', 'the', 'gap', 'between', 'human', 'communication', 'and', 'computer', 'indulgent', 'machine', 'translation', 'is', 'a', 'typical', 'test', 'of', 'language', 'analysis', 'and', 'language', 'production', 'in', 'this', 'we', 'have', 'to', 'use', 'a', 'similar', 'corpus', 'a', 'compilation', 'of', 'texts', 'each', 'of', 'which', 'is', 'translated', 'into', 'one', 'or', 'more', 'other', 'languages', 'that', 'unique', 'the', 'approach', 'skips', 'hundreds', 'of', 'significant', 'details', 'requires', 'a', 'lot', 'of', 'characteristics', 'human', 'engineering', 'consist', 'of', 'many', 'diverse', 'and', 'machine', 'learning', 'problem', 'and', 'in', 'general', 'is', 'a', 'very']\n",
      "108\n",
      "['natural', 'language', 'processing', 'is', 'a', 'stem', 'of', 'artificial', 'intelligence', 'that', 'helps', 'computer', 'understand', 'interpret', 'and', 'influence', 'human', 'language', 'it', 'draws', 'from', 'many', 'discipline', 'counting', 'computer', 'science', 'and', 'computational', 'linguistic', 'in', 'its', 'chase', 'to', 'fill', 'the', 'gap', 'between', 'human', 'communication', 'and', 'computer', 'indulgent', 'machine', 'translation', 'is', 'a', 'typical', 'test', 'of', 'language', 'analysis', 'and', 'language', 'production', 'in', 'this', 'we', 'have', 'to', 'use', 'a', 'similar', 'corpus', 'a', 'compilation', 'of', 'texts', 'each', 'of', 'which', 'is', 'translated', 'into', 'one', 'or', 'more', 'other', 'languages', 'that', 'unique', 'the', 'approach', 'skips', 'hundreds', 'of', 'significant', 'details', 'requires', 'a', 'lot', 'of', 'characteristics', 'human', 'engineering', 'consist', 'of', 'many', 'diverse', 'and', 'machine', 'learning', 'problem', 'and', 'in', 'general', 'is', 'a', 'very', 'compound']\n",
      "109\n",
      "['natural', 'language', 'processing', 'is', 'a', 'stem', 'of', 'artificial', 'intelligence', 'that', 'helps', 'computer', 'understand', 'interpret', 'and', 'influence', 'human', 'language', 'it', 'draws', 'from', 'many', 'discipline', 'counting', 'computer', 'science', 'and', 'computational', 'linguistic', 'in', 'its', 'chase', 'to', 'fill', 'the', 'gap', 'between', 'human', 'communication', 'and', 'computer', 'indulgent', 'machine', 'translation', 'is', 'a', 'typical', 'test', 'of', 'language', 'analysis', 'and', 'language', 'production', 'in', 'this', 'we', 'have', 'to', 'use', 'a', 'similar', 'corpus', 'a', 'compilation', 'of', 'texts', 'each', 'of', 'which', 'is', 'translated', 'into', 'one', 'or', 'more', 'other', 'languages', 'that', 'unique', 'the', 'approach', 'skips', 'hundreds', 'of', 'significant', 'details', 'requires', 'a', 'lot', 'of', 'characteristics', 'human', 'engineering', 'consist', 'of', 'many', 'diverse', 'and', 'machine', 'learning', 'problem', 'and', 'in', 'general', 'is', 'a', 'very', 'compound', 'system']\n",
      "110\n"
     ]
    }
   ],
   "source": [
    "words_no_punc = [ ]\n",
    "for w in t1:\n",
    "    if w.isalpha():\n",
    "        words_no_punc.append(w.lower())\n",
    "        \n",
    "        print(words_no_punc)\n",
    "        print(len(words_no_punc))"
   ]
  },
  {
   "cell_type": "code",
   "execution_count": 69,
   "id": "9ba57590",
   "metadata": {},
   "outputs": [
    {
     "name": "stdout",
     "output_type": "stream",
     "text": [
      "['natural']\n",
      "\n",
      "\n",
      "1\n",
      "['natural', 'language']\n",
      "\n",
      "\n",
      "2\n",
      "['natural', 'language', 'processing']\n",
      "\n",
      "\n",
      "3\n",
      "['natural', 'language', 'processing', 'stem']\n",
      "\n",
      "\n",
      "4\n",
      "['natural', 'language', 'processing', 'stem', 'artificial']\n",
      "\n",
      "\n",
      "5\n",
      "['natural', 'language', 'processing', 'stem', 'artificial', 'intelligence']\n",
      "\n",
      "\n",
      "6\n",
      "['natural', 'language', 'processing', 'stem', 'artificial', 'intelligence', 'helps']\n",
      "\n",
      "\n",
      "7\n",
      "['natural', 'language', 'processing', 'stem', 'artificial', 'intelligence', 'helps', 'computer']\n",
      "\n",
      "\n",
      "8\n",
      "['natural', 'language', 'processing', 'stem', 'artificial', 'intelligence', 'helps', 'computer', 'understand']\n",
      "\n",
      "\n",
      "9\n",
      "['natural', 'language', 'processing', 'stem', 'artificial', 'intelligence', 'helps', 'computer', 'understand', 'interpret']\n",
      "\n",
      "\n",
      "10\n",
      "['natural', 'language', 'processing', 'stem', 'artificial', 'intelligence', 'helps', 'computer', 'understand', 'interpret', 'influence']\n",
      "\n",
      "\n",
      "11\n",
      "['natural', 'language', 'processing', 'stem', 'artificial', 'intelligence', 'helps', 'computer', 'understand', 'interpret', 'influence', 'human']\n",
      "\n",
      "\n",
      "12\n",
      "['natural', 'language', 'processing', 'stem', 'artificial', 'intelligence', 'helps', 'computer', 'understand', 'interpret', 'influence', 'human', 'language']\n",
      "\n",
      "\n",
      "13\n",
      "['natural', 'language', 'processing', 'stem', 'artificial', 'intelligence', 'helps', 'computer', 'understand', 'interpret', 'influence', 'human', 'language', 'draws']\n",
      "\n",
      "\n",
      "14\n",
      "['natural', 'language', 'processing', 'stem', 'artificial', 'intelligence', 'helps', 'computer', 'understand', 'interpret', 'influence', 'human', 'language', 'draws', 'many']\n",
      "\n",
      "\n",
      "15\n",
      "['natural', 'language', 'processing', 'stem', 'artificial', 'intelligence', 'helps', 'computer', 'understand', 'interpret', 'influence', 'human', 'language', 'draws', 'many', 'discipline']\n",
      "\n",
      "\n",
      "16\n",
      "['natural', 'language', 'processing', 'stem', 'artificial', 'intelligence', 'helps', 'computer', 'understand', 'interpret', 'influence', 'human', 'language', 'draws', 'many', 'discipline', 'counting']\n",
      "\n",
      "\n",
      "17\n",
      "['natural', 'language', 'processing', 'stem', 'artificial', 'intelligence', 'helps', 'computer', 'understand', 'interpret', 'influence', 'human', 'language', 'draws', 'many', 'discipline', 'counting', 'computer']\n",
      "\n",
      "\n",
      "18\n",
      "['natural', 'language', 'processing', 'stem', 'artificial', 'intelligence', 'helps', 'computer', 'understand', 'interpret', 'influence', 'human', 'language', 'draws', 'many', 'discipline', 'counting', 'computer', 'science']\n",
      "\n",
      "\n",
      "19\n",
      "['natural', 'language', 'processing', 'stem', 'artificial', 'intelligence', 'helps', 'computer', 'understand', 'interpret', 'influence', 'human', 'language', 'draws', 'many', 'discipline', 'counting', 'computer', 'science', 'computational']\n",
      "\n",
      "\n",
      "20\n",
      "['natural', 'language', 'processing', 'stem', 'artificial', 'intelligence', 'helps', 'computer', 'understand', 'interpret', 'influence', 'human', 'language', 'draws', 'many', 'discipline', 'counting', 'computer', 'science', 'computational', 'linguistic']\n",
      "\n",
      "\n",
      "21\n",
      "['natural', 'language', 'processing', 'stem', 'artificial', 'intelligence', 'helps', 'computer', 'understand', 'interpret', 'influence', 'human', 'language', 'draws', 'many', 'discipline', 'counting', 'computer', 'science', 'computational', 'linguistic', 'chase']\n",
      "\n",
      "\n",
      "22\n",
      "['natural', 'language', 'processing', 'stem', 'artificial', 'intelligence', 'helps', 'computer', 'understand', 'interpret', 'influence', 'human', 'language', 'draws', 'many', 'discipline', 'counting', 'computer', 'science', 'computational', 'linguistic', 'chase', 'fill']\n",
      "\n",
      "\n",
      "23\n",
      "['natural', 'language', 'processing', 'stem', 'artificial', 'intelligence', 'helps', 'computer', 'understand', 'interpret', 'influence', 'human', 'language', 'draws', 'many', 'discipline', 'counting', 'computer', 'science', 'computational', 'linguistic', 'chase', 'fill', 'gap']\n",
      "\n",
      "\n",
      "24\n",
      "['natural', 'language', 'processing', 'stem', 'artificial', 'intelligence', 'helps', 'computer', 'understand', 'interpret', 'influence', 'human', 'language', 'draws', 'many', 'discipline', 'counting', 'computer', 'science', 'computational', 'linguistic', 'chase', 'fill', 'gap', 'human']\n",
      "\n",
      "\n",
      "25\n",
      "['natural', 'language', 'processing', 'stem', 'artificial', 'intelligence', 'helps', 'computer', 'understand', 'interpret', 'influence', 'human', 'language', 'draws', 'many', 'discipline', 'counting', 'computer', 'science', 'computational', 'linguistic', 'chase', 'fill', 'gap', 'human', 'communication']\n",
      "\n",
      "\n",
      "26\n",
      "['natural', 'language', 'processing', 'stem', 'artificial', 'intelligence', 'helps', 'computer', 'understand', 'interpret', 'influence', 'human', 'language', 'draws', 'many', 'discipline', 'counting', 'computer', 'science', 'computational', 'linguistic', 'chase', 'fill', 'gap', 'human', 'communication', 'computer']\n",
      "\n",
      "\n",
      "27\n",
      "['natural', 'language', 'processing', 'stem', 'artificial', 'intelligence', 'helps', 'computer', 'understand', 'interpret', 'influence', 'human', 'language', 'draws', 'many', 'discipline', 'counting', 'computer', 'science', 'computational', 'linguistic', 'chase', 'fill', 'gap', 'human', 'communication', 'computer', 'indulgent']\n",
      "\n",
      "\n",
      "28\n",
      "['natural', 'language', 'processing', 'stem', 'artificial', 'intelligence', 'helps', 'computer', 'understand', 'interpret', 'influence', 'human', 'language', 'draws', 'many', 'discipline', 'counting', 'computer', 'science', 'computational', 'linguistic', 'chase', 'fill', 'gap', 'human', 'communication', 'computer', 'indulgent', 'machine']\n",
      "\n",
      "\n",
      "29\n",
      "['natural', 'language', 'processing', 'stem', 'artificial', 'intelligence', 'helps', 'computer', 'understand', 'interpret', 'influence', 'human', 'language', 'draws', 'many', 'discipline', 'counting', 'computer', 'science', 'computational', 'linguistic', 'chase', 'fill', 'gap', 'human', 'communication', 'computer', 'indulgent', 'machine', 'translation']\n",
      "\n",
      "\n",
      "30\n",
      "['natural', 'language', 'processing', 'stem', 'artificial', 'intelligence', 'helps', 'computer', 'understand', 'interpret', 'influence', 'human', 'language', 'draws', 'many', 'discipline', 'counting', 'computer', 'science', 'computational', 'linguistic', 'chase', 'fill', 'gap', 'human', 'communication', 'computer', 'indulgent', 'machine', 'translation', 'typical']\n",
      "\n",
      "\n",
      "31\n",
      "['natural', 'language', 'processing', 'stem', 'artificial', 'intelligence', 'helps', 'computer', 'understand', 'interpret', 'influence', 'human', 'language', 'draws', 'many', 'discipline', 'counting', 'computer', 'science', 'computational', 'linguistic', 'chase', 'fill', 'gap', 'human', 'communication', 'computer', 'indulgent', 'machine', 'translation', 'typical', 'test']\n",
      "\n",
      "\n",
      "32\n",
      "['natural', 'language', 'processing', 'stem', 'artificial', 'intelligence', 'helps', 'computer', 'understand', 'interpret', 'influence', 'human', 'language', 'draws', 'many', 'discipline', 'counting', 'computer', 'science', 'computational', 'linguistic', 'chase', 'fill', 'gap', 'human', 'communication', 'computer', 'indulgent', 'machine', 'translation', 'typical', 'test', 'language']\n",
      "\n",
      "\n",
      "33\n",
      "['natural', 'language', 'processing', 'stem', 'artificial', 'intelligence', 'helps', 'computer', 'understand', 'interpret', 'influence', 'human', 'language', 'draws', 'many', 'discipline', 'counting', 'computer', 'science', 'computational', 'linguistic', 'chase', 'fill', 'gap', 'human', 'communication', 'computer', 'indulgent', 'machine', 'translation', 'typical', 'test', 'language', 'analysis']\n",
      "\n",
      "\n",
      "34\n",
      "['natural', 'language', 'processing', 'stem', 'artificial', 'intelligence', 'helps', 'computer', 'understand', 'interpret', 'influence', 'human', 'language', 'draws', 'many', 'discipline', 'counting', 'computer', 'science', 'computational', 'linguistic', 'chase', 'fill', 'gap', 'human', 'communication', 'computer', 'indulgent', 'machine', 'translation', 'typical', 'test', 'language', 'analysis', 'language']\n",
      "\n",
      "\n",
      "35\n",
      "['natural', 'language', 'processing', 'stem', 'artificial', 'intelligence', 'helps', 'computer', 'understand', 'interpret', 'influence', 'human', 'language', 'draws', 'many', 'discipline', 'counting', 'computer', 'science', 'computational', 'linguistic', 'chase', 'fill', 'gap', 'human', 'communication', 'computer', 'indulgent', 'machine', 'translation', 'typical', 'test', 'language', 'analysis', 'language', 'production']\n",
      "\n",
      "\n",
      "36\n",
      "['natural', 'language', 'processing', 'stem', 'artificial', 'intelligence', 'helps', 'computer', 'understand', 'interpret', 'influence', 'human', 'language', 'draws', 'many', 'discipline', 'counting', 'computer', 'science', 'computational', 'linguistic', 'chase', 'fill', 'gap', 'human', 'communication', 'computer', 'indulgent', 'machine', 'translation', 'typical', 'test', 'language', 'analysis', 'language', 'production', 'use']\n",
      "\n",
      "\n",
      "37\n",
      "['natural', 'language', 'processing', 'stem', 'artificial', 'intelligence', 'helps', 'computer', 'understand', 'interpret', 'influence', 'human', 'language', 'draws', 'many', 'discipline', 'counting', 'computer', 'science', 'computational', 'linguistic', 'chase', 'fill', 'gap', 'human', 'communication', 'computer', 'indulgent', 'machine', 'translation', 'typical', 'test', 'language', 'analysis', 'language', 'production', 'use', 'similar']\n",
      "\n",
      "\n",
      "38\n",
      "['natural', 'language', 'processing', 'stem', 'artificial', 'intelligence', 'helps', 'computer', 'understand', 'interpret', 'influence', 'human', 'language', 'draws', 'many', 'discipline', 'counting', 'computer', 'science', 'computational', 'linguistic', 'chase', 'fill', 'gap', 'human', 'communication', 'computer', 'indulgent', 'machine', 'translation', 'typical', 'test', 'language', 'analysis', 'language', 'production', 'use', 'similar', 'corpus']\n",
      "\n",
      "\n",
      "39\n",
      "['natural', 'language', 'processing', 'stem', 'artificial', 'intelligence', 'helps', 'computer', 'understand', 'interpret', 'influence', 'human', 'language', 'draws', 'many', 'discipline', 'counting', 'computer', 'science', 'computational', 'linguistic', 'chase', 'fill', 'gap', 'human', 'communication', 'computer', 'indulgent', 'machine', 'translation', 'typical', 'test', 'language', 'analysis', 'language', 'production', 'use', 'similar', 'corpus', 'compilation']\n",
      "\n",
      "\n",
      "40\n",
      "['natural', 'language', 'processing', 'stem', 'artificial', 'intelligence', 'helps', 'computer', 'understand', 'interpret', 'influence', 'human', 'language', 'draws', 'many', 'discipline', 'counting', 'computer', 'science', 'computational', 'linguistic', 'chase', 'fill', 'gap', 'human', 'communication', 'computer', 'indulgent', 'machine', 'translation', 'typical', 'test', 'language', 'analysis', 'language', 'production', 'use', 'similar', 'corpus', 'compilation', 'texts']\n",
      "\n",
      "\n",
      "41\n",
      "['natural', 'language', 'processing', 'stem', 'artificial', 'intelligence', 'helps', 'computer', 'understand', 'interpret', 'influence', 'human', 'language', 'draws', 'many', 'discipline', 'counting', 'computer', 'science', 'computational', 'linguistic', 'chase', 'fill', 'gap', 'human', 'communication', 'computer', 'indulgent', 'machine', 'translation', 'typical', 'test', 'language', 'analysis', 'language', 'production', 'use', 'similar', 'corpus', 'compilation', 'texts', 'translated']\n",
      "\n",
      "\n",
      "42\n",
      "['natural', 'language', 'processing', 'stem', 'artificial', 'intelligence', 'helps', 'computer', 'understand', 'interpret', 'influence', 'human', 'language', 'draws', 'many', 'discipline', 'counting', 'computer', 'science', 'computational', 'linguistic', 'chase', 'fill', 'gap', 'human', 'communication', 'computer', 'indulgent', 'machine', 'translation', 'typical', 'test', 'language', 'analysis', 'language', 'production', 'use', 'similar', 'corpus', 'compilation', 'texts', 'translated', 'one']\n",
      "\n",
      "\n",
      "43\n",
      "['natural', 'language', 'processing', 'stem', 'artificial', 'intelligence', 'helps', 'computer', 'understand', 'interpret', 'influence', 'human', 'language', 'draws', 'many', 'discipline', 'counting', 'computer', 'science', 'computational', 'linguistic', 'chase', 'fill', 'gap', 'human', 'communication', 'computer', 'indulgent', 'machine', 'translation', 'typical', 'test', 'language', 'analysis', 'language', 'production', 'use', 'similar', 'corpus', 'compilation', 'texts', 'translated', 'one', 'languages']\n",
      "\n",
      "\n",
      "44\n",
      "['natural', 'language', 'processing', 'stem', 'artificial', 'intelligence', 'helps', 'computer', 'understand', 'interpret', 'influence', 'human', 'language', 'draws', 'many', 'discipline', 'counting', 'computer', 'science', 'computational', 'linguistic', 'chase', 'fill', 'gap', 'human', 'communication', 'computer', 'indulgent', 'machine', 'translation', 'typical', 'test', 'language', 'analysis', 'language', 'production', 'use', 'similar', 'corpus', 'compilation', 'texts', 'translated', 'one', 'languages', 'unique']\n",
      "\n",
      "\n",
      "45\n",
      "['natural', 'language', 'processing', 'stem', 'artificial', 'intelligence', 'helps', 'computer', 'understand', 'interpret', 'influence', 'human', 'language', 'draws', 'many', 'discipline', 'counting', 'computer', 'science', 'computational', 'linguistic', 'chase', 'fill', 'gap', 'human', 'communication', 'computer', 'indulgent', 'machine', 'translation', 'typical', 'test', 'language', 'analysis', 'language', 'production', 'use', 'similar', 'corpus', 'compilation', 'texts', 'translated', 'one', 'languages', 'unique', 'approach']\n",
      "\n",
      "\n",
      "46\n",
      "['natural', 'language', 'processing', 'stem', 'artificial', 'intelligence', 'helps', 'computer', 'understand', 'interpret', 'influence', 'human', 'language', 'draws', 'many', 'discipline', 'counting', 'computer', 'science', 'computational', 'linguistic', 'chase', 'fill', 'gap', 'human', 'communication', 'computer', 'indulgent', 'machine', 'translation', 'typical', 'test', 'language', 'analysis', 'language', 'production', 'use', 'similar', 'corpus', 'compilation', 'texts', 'translated', 'one', 'languages', 'unique', 'approach', 'skips']\n",
      "\n",
      "\n",
      "47\n",
      "['natural', 'language', 'processing', 'stem', 'artificial', 'intelligence', 'helps', 'computer', 'understand', 'interpret', 'influence', 'human', 'language', 'draws', 'many', 'discipline', 'counting', 'computer', 'science', 'computational', 'linguistic', 'chase', 'fill', 'gap', 'human', 'communication', 'computer', 'indulgent', 'machine', 'translation', 'typical', 'test', 'language', 'analysis', 'language', 'production', 'use', 'similar', 'corpus', 'compilation', 'texts', 'translated', 'one', 'languages', 'unique', 'approach', 'skips', 'hundreds']\n",
      "\n",
      "\n",
      "48\n",
      "['natural', 'language', 'processing', 'stem', 'artificial', 'intelligence', 'helps', 'computer', 'understand', 'interpret', 'influence', 'human', 'language', 'draws', 'many', 'discipline', 'counting', 'computer', 'science', 'computational', 'linguistic', 'chase', 'fill', 'gap', 'human', 'communication', 'computer', 'indulgent', 'machine', 'translation', 'typical', 'test', 'language', 'analysis', 'language', 'production', 'use', 'similar', 'corpus', 'compilation', 'texts', 'translated', 'one', 'languages', 'unique', 'approach', 'skips', 'hundreds', 'significant']\n",
      "\n",
      "\n",
      "49\n",
      "['natural', 'language', 'processing', 'stem', 'artificial', 'intelligence', 'helps', 'computer', 'understand', 'interpret', 'influence', 'human', 'language', 'draws', 'many', 'discipline', 'counting', 'computer', 'science', 'computational', 'linguistic', 'chase', 'fill', 'gap', 'human', 'communication', 'computer', 'indulgent', 'machine', 'translation', 'typical', 'test', 'language', 'analysis', 'language', 'production', 'use', 'similar', 'corpus', 'compilation', 'texts', 'translated', 'one', 'languages', 'unique', 'approach', 'skips', 'hundreds', 'significant', 'details']\n",
      "\n",
      "\n",
      "50\n",
      "['natural', 'language', 'processing', 'stem', 'artificial', 'intelligence', 'helps', 'computer', 'understand', 'interpret', 'influence', 'human', 'language', 'draws', 'many', 'discipline', 'counting', 'computer', 'science', 'computational', 'linguistic', 'chase', 'fill', 'gap', 'human', 'communication', 'computer', 'indulgent', 'machine', 'translation', 'typical', 'test', 'language', 'analysis', 'language', 'production', 'use', 'similar', 'corpus', 'compilation', 'texts', 'translated', 'one', 'languages', 'unique', 'approach', 'skips', 'hundreds', 'significant', 'details', 'requires']\n",
      "\n",
      "\n",
      "51\n",
      "['natural', 'language', 'processing', 'stem', 'artificial', 'intelligence', 'helps', 'computer', 'understand', 'interpret', 'influence', 'human', 'language', 'draws', 'many', 'discipline', 'counting', 'computer', 'science', 'computational', 'linguistic', 'chase', 'fill', 'gap', 'human', 'communication', 'computer', 'indulgent', 'machine', 'translation', 'typical', 'test', 'language', 'analysis', 'language', 'production', 'use', 'similar', 'corpus', 'compilation', 'texts', 'translated', 'one', 'languages', 'unique', 'approach', 'skips', 'hundreds', 'significant', 'details', 'requires', 'lot']\n",
      "\n",
      "\n",
      "52\n",
      "['natural', 'language', 'processing', 'stem', 'artificial', 'intelligence', 'helps', 'computer', 'understand', 'interpret', 'influence', 'human', 'language', 'draws', 'many', 'discipline', 'counting', 'computer', 'science', 'computational', 'linguistic', 'chase', 'fill', 'gap', 'human', 'communication', 'computer', 'indulgent', 'machine', 'translation', 'typical', 'test', 'language', 'analysis', 'language', 'production', 'use', 'similar', 'corpus', 'compilation', 'texts', 'translated', 'one', 'languages', 'unique', 'approach', 'skips', 'hundreds', 'significant', 'details', 'requires', 'lot', 'characteristics']\n",
      "\n",
      "\n",
      "53\n",
      "['natural', 'language', 'processing', 'stem', 'artificial', 'intelligence', 'helps', 'computer', 'understand', 'interpret', 'influence', 'human', 'language', 'draws', 'many', 'discipline', 'counting', 'computer', 'science', 'computational', 'linguistic', 'chase', 'fill', 'gap', 'human', 'communication', 'computer', 'indulgent', 'machine', 'translation', 'typical', 'test', 'language', 'analysis', 'language', 'production', 'use', 'similar', 'corpus', 'compilation', 'texts', 'translated', 'one', 'languages', 'unique', 'approach', 'skips', 'hundreds', 'significant', 'details', 'requires', 'lot', 'characteristics', 'human']\n",
      "\n",
      "\n",
      "54\n",
      "['natural', 'language', 'processing', 'stem', 'artificial', 'intelligence', 'helps', 'computer', 'understand', 'interpret', 'influence', 'human', 'language', 'draws', 'many', 'discipline', 'counting', 'computer', 'science', 'computational', 'linguistic', 'chase', 'fill', 'gap', 'human', 'communication', 'computer', 'indulgent', 'machine', 'translation', 'typical', 'test', 'language', 'analysis', 'language', 'production', 'use', 'similar', 'corpus', 'compilation', 'texts', 'translated', 'one', 'languages', 'unique', 'approach', 'skips', 'hundreds', 'significant', 'details', 'requires', 'lot', 'characteristics', 'human', 'engineering']\n",
      "\n",
      "\n",
      "55\n",
      "['natural', 'language', 'processing', 'stem', 'artificial', 'intelligence', 'helps', 'computer', 'understand', 'interpret', 'influence', 'human', 'language', 'draws', 'many', 'discipline', 'counting', 'computer', 'science', 'computational', 'linguistic', 'chase', 'fill', 'gap', 'human', 'communication', 'computer', 'indulgent', 'machine', 'translation', 'typical', 'test', 'language', 'analysis', 'language', 'production', 'use', 'similar', 'corpus', 'compilation', 'texts', 'translated', 'one', 'languages', 'unique', 'approach', 'skips', 'hundreds', 'significant', 'details', 'requires', 'lot', 'characteristics', 'human', 'engineering', 'consist']\n",
      "\n",
      "\n",
      "56\n",
      "['natural', 'language', 'processing', 'stem', 'artificial', 'intelligence', 'helps', 'computer', 'understand', 'interpret', 'influence', 'human', 'language', 'draws', 'many', 'discipline', 'counting', 'computer', 'science', 'computational', 'linguistic', 'chase', 'fill', 'gap', 'human', 'communication', 'computer', 'indulgent', 'machine', 'translation', 'typical', 'test', 'language', 'analysis', 'language', 'production', 'use', 'similar', 'corpus', 'compilation', 'texts', 'translated', 'one', 'languages', 'unique', 'approach', 'skips', 'hundreds', 'significant', 'details', 'requires', 'lot', 'characteristics', 'human', 'engineering', 'consist', 'many']\n",
      "\n",
      "\n",
      "57\n",
      "['natural', 'language', 'processing', 'stem', 'artificial', 'intelligence', 'helps', 'computer', 'understand', 'interpret', 'influence', 'human', 'language', 'draws', 'many', 'discipline', 'counting', 'computer', 'science', 'computational', 'linguistic', 'chase', 'fill', 'gap', 'human', 'communication', 'computer', 'indulgent', 'machine', 'translation', 'typical', 'test', 'language', 'analysis', 'language', 'production', 'use', 'similar', 'corpus', 'compilation', 'texts', 'translated', 'one', 'languages', 'unique', 'approach', 'skips', 'hundreds', 'significant', 'details', 'requires', 'lot', 'characteristics', 'human', 'engineering', 'consist', 'many', 'diverse']\n",
      "\n",
      "\n",
      "58\n",
      "['natural', 'language', 'processing', 'stem', 'artificial', 'intelligence', 'helps', 'computer', 'understand', 'interpret', 'influence', 'human', 'language', 'draws', 'many', 'discipline', 'counting', 'computer', 'science', 'computational', 'linguistic', 'chase', 'fill', 'gap', 'human', 'communication', 'computer', 'indulgent', 'machine', 'translation', 'typical', 'test', 'language', 'analysis', 'language', 'production', 'use', 'similar', 'corpus', 'compilation', 'texts', 'translated', 'one', 'languages', 'unique', 'approach', 'skips', 'hundreds', 'significant', 'details', 'requires', 'lot', 'characteristics', 'human', 'engineering', 'consist', 'many', 'diverse', 'machine']\n",
      "\n",
      "\n",
      "59\n",
      "['natural', 'language', 'processing', 'stem', 'artificial', 'intelligence', 'helps', 'computer', 'understand', 'interpret', 'influence', 'human', 'language', 'draws', 'many', 'discipline', 'counting', 'computer', 'science', 'computational', 'linguistic', 'chase', 'fill', 'gap', 'human', 'communication', 'computer', 'indulgent', 'machine', 'translation', 'typical', 'test', 'language', 'analysis', 'language', 'production', 'use', 'similar', 'corpus', 'compilation', 'texts', 'translated', 'one', 'languages', 'unique', 'approach', 'skips', 'hundreds', 'significant', 'details', 'requires', 'lot', 'characteristics', 'human', 'engineering', 'consist', 'many', 'diverse', 'machine', 'learning']\n",
      "\n",
      "\n",
      "60\n",
      "['natural', 'language', 'processing', 'stem', 'artificial', 'intelligence', 'helps', 'computer', 'understand', 'interpret', 'influence', 'human', 'language', 'draws', 'many', 'discipline', 'counting', 'computer', 'science', 'computational', 'linguistic', 'chase', 'fill', 'gap', 'human', 'communication', 'computer', 'indulgent', 'machine', 'translation', 'typical', 'test', 'language', 'analysis', 'language', 'production', 'use', 'similar', 'corpus', 'compilation', 'texts', 'translated', 'one', 'languages', 'unique', 'approach', 'skips', 'hundreds', 'significant', 'details', 'requires', 'lot', 'characteristics', 'human', 'engineering', 'consist', 'many', 'diverse', 'machine', 'learning', 'problem']\n",
      "\n",
      "\n",
      "61\n",
      "['natural', 'language', 'processing', 'stem', 'artificial', 'intelligence', 'helps', 'computer', 'understand', 'interpret', 'influence', 'human', 'language', 'draws', 'many', 'discipline', 'counting', 'computer', 'science', 'computational', 'linguistic', 'chase', 'fill', 'gap', 'human', 'communication', 'computer', 'indulgent', 'machine', 'translation', 'typical', 'test', 'language', 'analysis', 'language', 'production', 'use', 'similar', 'corpus', 'compilation', 'texts', 'translated', 'one', 'languages', 'unique', 'approach', 'skips', 'hundreds', 'significant', 'details', 'requires', 'lot', 'characteristics', 'human', 'engineering', 'consist', 'many', 'diverse', 'machine', 'learning', 'problem', 'general']\n",
      "\n",
      "\n",
      "62\n",
      "['natural', 'language', 'processing', 'stem', 'artificial', 'intelligence', 'helps', 'computer', 'understand', 'interpret', 'influence', 'human', 'language', 'draws', 'many', 'discipline', 'counting', 'computer', 'science', 'computational', 'linguistic', 'chase', 'fill', 'gap', 'human', 'communication', 'computer', 'indulgent', 'machine', 'translation', 'typical', 'test', 'language', 'analysis', 'language', 'production', 'use', 'similar', 'corpus', 'compilation', 'texts', 'translated', 'one', 'languages', 'unique', 'approach', 'skips', 'hundreds', 'significant', 'details', 'requires', 'lot', 'characteristics', 'human', 'engineering', 'consist', 'many', 'diverse', 'machine', 'learning', 'problem', 'general', 'compound']\n",
      "\n",
      "\n",
      "63\n",
      "['natural', 'language', 'processing', 'stem', 'artificial', 'intelligence', 'helps', 'computer', 'understand', 'interpret', 'influence', 'human', 'language', 'draws', 'many', 'discipline', 'counting', 'computer', 'science', 'computational', 'linguistic', 'chase', 'fill', 'gap', 'human', 'communication', 'computer', 'indulgent', 'machine', 'translation', 'typical', 'test', 'language', 'analysis', 'language', 'production', 'use', 'similar', 'corpus', 'compilation', 'texts', 'translated', 'one', 'languages', 'unique', 'approach', 'skips', 'hundreds', 'significant', 'details', 'requires', 'lot', 'characteristics', 'human', 'engineering', 'consist', 'many', 'diverse', 'machine', 'learning', 'problem', 'general', 'compound', 'system']\n",
      "\n",
      "\n",
      "64\n"
     ]
    }
   ],
   "source": [
    "clean_words = []\n",
    "for w in words_no_punc:\n",
    "    if w not in stopwords:\n",
    "        clean_words.append(w)\n",
    "        \n",
    "        print(clean_words)\n",
    "        print(\"\\n\")\n",
    "        print(len(clean_words))"
   ]
  },
  {
   "cell_type": "code",
   "execution_count": 70,
   "id": "93c00af3",
   "metadata": {},
   "outputs": [
    {
     "data": {
      "text/plain": [
       "[('language', 4),\n",
       " ('computer', 3),\n",
       " ('human', 3),\n",
       " ('many', 2),\n",
       " ('machine', 2),\n",
       " ('natural', 1),\n",
       " ('processing', 1),\n",
       " ('stem', 1),\n",
       " ('artificial', 1),\n",
       " ('intelligence', 1)]"
      ]
     },
     "execution_count": 70,
     "metadata": {},
     "output_type": "execute_result"
    }
   ],
   "source": [
    "fdist = FreqDist(clean_words)\n",
    "fdist.most_common(10)"
   ]
  },
  {
   "cell_type": "code",
   "execution_count": 71,
   "id": "e43281f2",
   "metadata": {},
   "outputs": [
    {
     "data": {
      "image/png": "[encoded data removed]",
      "text/plain": [
       "<Figure size 432x288 with 1 Axes>"
      ]
     },
     "metadata": {
      "needs_background": "light"
     },
     "output_type": "display_data"
    },
    {
     "data": {
      "text/plain": [
       "<AxesSubplot:xlabel='Samples', ylabel='Counts'>"
      ]
     },
     "execution_count": 71,
     "metadata": {},
     "output_type": "execute_result"
    }
   ],
   "source": [
    "import matplotlib.pyplot as plt\n",
    "fdist.plot(10)"
   ]
  }
 ],
 "metadata": {
  "kernelspec": {
   "display_name": "Python 3",
   "language": "python",
   "name": "python3"
  },
  "language_info": {
   "codemirror_mode": {
    "name": "ipython",
    "version": 3
   },
   "file_extension": ".py",
   "mimetype": "text/x-python",
   "name": "python",
   "nbconvert_exporter": "python",
   "pygments_lexer": "ipython3",
   "version": "3.8.8"
  }
 },
 "nbformat": 4,
 "nbformat_minor": 5
}
